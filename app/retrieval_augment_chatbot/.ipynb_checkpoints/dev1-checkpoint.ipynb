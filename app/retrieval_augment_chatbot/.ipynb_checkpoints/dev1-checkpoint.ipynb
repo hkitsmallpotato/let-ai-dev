{
 "cells": [
  {
   "cell_type": "code",
   "execution_count": 2,
   "id": "cbf3b13c-1349-4a65-beaf-d73a61ea1572",
   "metadata": {},
   "outputs": [
    {
     "name": "stdout",
     "output_type": "stream",
     "text": [
      "Requirement already satisfied: llama-cpp-python in /home/ellewong/.local/lib/python3.8/site-packages (from -r requirements.txt (line 1)) (0.1.65)\n",
      "Collecting gradio\n",
      "  Downloading gradio-3.35.2-py3-none-any.whl (19.7 MB)\n",
      "\u001b[K     |████████████████████████████████| 19.7 MB 3.0 MB/s eta 0:00:01     |█████████████████████████▎      | 15.6 MB 3.4 MB/s eta 0:00:02\n",
      "\u001b[?25hCollecting huggingface_hub\n",
      "  Using cached huggingface_hub-0.15.1-py3-none-any.whl (236 kB)\n",
      "Collecting duckduckgo_search\n",
      "  Downloading duckduckgo_search-3.8.3-py3-none-any.whl (18 kB)\n",
      "Requirement already satisfied: requests in /home/ellewong/.local/lib/python3.8/site-packages (from -r requirements.txt (line 5)) (2.31.0)\n",
      "Collecting html2text\n",
      "  Downloading html2text-2020.1.16-py3-none-any.whl (32 kB)\n",
      "Requirement already satisfied: Jinja2 in /home/ellewong/.local/lib/python3.8/site-packages (from -r requirements.txt (line 7)) (3.1.2)\n",
      "Requirement already satisfied: typing-extensions>=4.5.0 in /home/ellewong/.local/lib/python3.8/site-packages (from llama-cpp-python->-r requirements.txt (line 1)) (4.6.3)\n",
      "Requirement already satisfied: diskcache>=5.6.1 in /home/ellewong/.local/lib/python3.8/site-packages (from llama-cpp-python->-r requirements.txt (line 1)) (5.6.1)\n",
      "Requirement already satisfied: numpy>=1.20.0 in /home/ellewong/.local/lib/python3.8/site-packages (from llama-cpp-python->-r requirements.txt (line 1)) (1.24.3)\n",
      "Requirement already satisfied: pyyaml in /usr/lib/python3/dist-packages (from gradio->-r requirements.txt (line 2)) (5.3.1)\n",
      "Collecting uvicorn>=0.14.0\n",
      "  Downloading uvicorn-0.22.0-py3-none-any.whl (58 kB)\n",
      "\u001b[K     |████████████████████████████████| 58 kB 3.8 MB/s eta 0:00:01\n",
      "\u001b[?25hCollecting orjson\n",
      "  Downloading orjson-3.9.1-cp38-cp38-manylinux_2_17_x86_64.manylinux2014_x86_64.whl (136 kB)\n",
      "\u001b[K     |████████████████████████████████| 136 kB 3.4 MB/s eta 0:00:01\n",
      "\u001b[?25hCollecting aiohttp\n",
      "  Downloading aiohttp-3.8.4-cp38-cp38-manylinux_2_17_x86_64.manylinux2014_x86_64.whl (1.0 MB)\n",
      "\u001b[K     |████████████████████████████████| 1.0 MB 3.1 MB/s eta 0:00:01\n",
      "\u001b[?25hCollecting mdit-py-plugins<=0.3.3\n",
      "  Downloading mdit_py_plugins-0.3.3-py3-none-any.whl (50 kB)\n",
      "\u001b[K     |████████████████████████████████| 50 kB 9.4 MB/s  eta 0:00:01\n",
      "\u001b[?25hCollecting httpx\n",
      "  Downloading httpx-0.24.1-py3-none-any.whl (75 kB)\n",
      "\u001b[K     |████████████████████████████████| 75 kB 3.6 MB/s eta 0:00:01\n",
      "\u001b[?25hCollecting altair>=4.2.0\n",
      "  Downloading altair-5.0.1-py3-none-any.whl (471 kB)\n",
      "\u001b[K     |████████████████████████████████| 471 kB 3.9 MB/s eta 0:00:01\n",
      "\u001b[?25hRequirement already satisfied: pillow in /usr/lib/python3/dist-packages (from gradio->-r requirements.txt (line 2)) (7.0.0)\n",
      "Collecting python-multipart\n",
      "  Downloading python_multipart-0.0.6-py3-none-any.whl (45 kB)\n",
      "\u001b[K     |████████████████████████████████| 45 kB 3.1 MB/s eta 0:00:01\n",
      "\u001b[?25hCollecting pydub\n",
      "  Downloading pydub-0.25.1-py2.py3-none-any.whl (32 kB)\n",
      "Collecting websockets>=10.0\n",
      "  Downloading websockets-11.0.3-cp38-cp38-manylinux_2_5_x86_64.manylinux1_x86_64.manylinux_2_17_x86_64.manylinux2014_x86_64.whl (130 kB)\n",
      "\u001b[K     |████████████████████████████████| 130 kB 2.9 MB/s eta 0:00:01\n",
      "\u001b[?25hCollecting semantic-version\n",
      "  Downloading semantic_version-2.10.0-py2.py3-none-any.whl (15 kB)\n",
      "Collecting fastapi\n",
      "  Downloading fastapi-0.97.0-py3-none-any.whl (56 kB)\n",
      "\u001b[K     |████████████████████████████████| 56 kB 3.2 MB/s eta 0:00:01\n",
      "\u001b[?25hRequirement already satisfied: markupsafe in /home/ellewong/.local/lib/python3.8/site-packages (from gradio->-r requirements.txt (line 2)) (2.1.3)\n",
      "Collecting matplotlib\n",
      "  Downloading matplotlib-3.7.1-cp38-cp38-manylinux_2_12_x86_64.manylinux2010_x86_64.whl (9.2 MB)\n",
      "\u001b[K     |████████████████████████████████| 9.2 MB 2.6 MB/s eta 0:00:01\n",
      "\u001b[?25hCollecting markdown-it-py[linkify]>=2.0.0\n",
      "  Downloading markdown_it_py-3.0.0-py3-none-any.whl (87 kB)\n",
      "\u001b[K     |████████████████████████████████| 87 kB 2.5 MB/s eta 0:00:01\n",
      "\u001b[?25hCollecting aiofiles\n",
      "  Downloading aiofiles-23.1.0-py3-none-any.whl (14 kB)\n",
      "Collecting pydantic\n",
      "  Downloading pydantic-1.10.9-cp38-cp38-manylinux_2_17_x86_64.manylinux2014_x86_64.whl (3.2 MB)\n",
      "\u001b[K     |████████████████████████████████| 3.2 MB 4.0 MB/s eta 0:00:01\n",
      "\u001b[?25hRequirement already satisfied: pygments>=2.12.0 in /home/ellewong/.local/lib/python3.8/site-packages (from gradio->-r requirements.txt (line 2)) (2.15.1)\n",
      "Collecting gradio-client>=0.2.7\n",
      "  Downloading gradio_client-0.2.7-py3-none-any.whl (288 kB)\n",
      "\u001b[K     |████████████████████████████████| 288 kB 4.7 MB/s eta 0:00:01\n",
      "\u001b[?25hCollecting pandas\n",
      "  Downloading pandas-2.0.2-cp38-cp38-manylinux_2_17_x86_64.manylinux2014_x86_64.whl (12.3 MB)\n",
      "\u001b[K     |████████████████████████████████| 12.3 MB 1.0 MB/s  eta 0:00:01\n",
      "\u001b[?25hCollecting ffmpy\n",
      "  Downloading ffmpy-0.3.0.tar.gz (4.8 kB)\n",
      "Collecting fsspec\n",
      "  Using cached fsspec-2023.6.0-py3-none-any.whl (163 kB)\n",
      "Collecting filelock\n",
      "  Downloading filelock-3.12.2-py3-none-any.whl (10 kB)\n",
      "Requirement already satisfied: packaging>=20.9 in /home/ellewong/.local/lib/python3.8/site-packages (from huggingface_hub->-r requirements.txt (line 3)) (23.1)\n",
      "Collecting tqdm>=4.42.1\n",
      "  Using cached tqdm-4.65.0-py3-none-any.whl (77 kB)\n",
      "Collecting lxml>=4.9.2\n",
      "  Downloading lxml-4.9.2-cp38-cp38-manylinux_2_17_x86_64.manylinux2014_x86_64.manylinux_2_24_x86_64.whl (7.1 MB)\n",
      "\u001b[K     |████████████████████████████████| 7.1 MB 5.4 MB/s eta 0:00:01\n",
      "\u001b[?25hCollecting click>=8.1.3\n",
      "  Downloading click-8.1.3-py3-none-any.whl (96 kB)\n",
      "\u001b[K     |████████████████████████████████| 96 kB 6.0 MB/s eta 0:00:01\n",
      "\u001b[?25hRequirement already satisfied: charset-normalizer<4,>=2 in /home/ellewong/.local/lib/python3.8/site-packages (from requests->-r requirements.txt (line 5)) (3.1.0)\n",
      "Requirement already satisfied: idna<4,>=2.5 in /usr/lib/python3/dist-packages (from requests->-r requirements.txt (line 5)) (2.8)\n",
      "Requirement already satisfied: urllib3<3,>=1.21.1 in /usr/lib/python3/dist-packages (from requests->-r requirements.txt (line 5)) (1.25.8)\n",
      "Requirement already satisfied: certifi>=2017.4.17 in /usr/lib/python3/dist-packages (from requests->-r requirements.txt (line 5)) (2019.11.28)\n",
      "Collecting h11>=0.8\n",
      "  Downloading h11-0.14.0-py3-none-any.whl (58 kB)\n",
      "\u001b[K     |████████████████████████████████| 58 kB 5.4 MB/s eta 0:00:011\n",
      "\u001b[?25hRequirement already satisfied: attrs>=17.3.0 in /home/ellewong/.local/lib/python3.8/site-packages (from aiohttp->gradio->-r requirements.txt (line 2)) (23.1.0)\n",
      "Collecting multidict<7.0,>=4.5\n",
      "  Downloading multidict-6.0.4-cp38-cp38-manylinux_2_17_x86_64.manylinux2014_x86_64.whl (121 kB)\n",
      "\u001b[K     |████████████████████████████████| 121 kB 7.9 MB/s eta 0:00:01\n",
      "\u001b[?25hCollecting aiosignal>=1.1.2\n",
      "  Downloading aiosignal-1.3.1-py3-none-any.whl (7.6 kB)\n",
      "Collecting async-timeout<5.0,>=4.0.0a3\n",
      "  Downloading async_timeout-4.0.2-py3-none-any.whl (5.8 kB)\n",
      "Collecting yarl<2.0,>=1.0\n",
      "  Downloading yarl-1.9.2-cp38-cp38-manylinux_2_17_x86_64.manylinux2014_x86_64.whl (266 kB)\n",
      "\u001b[K     |████████████████████████████████| 266 kB 5.5 MB/s eta 0:00:01\n",
      "\u001b[?25hCollecting frozenlist>=1.1.1\n",
      "  Downloading frozenlist-1.3.3-cp38-cp38-manylinux_2_5_x86_64.manylinux1_x86_64.manylinux_2_17_x86_64.manylinux2014_x86_64.whl (161 kB)\n",
      "\u001b[K     |████████████████████████████████| 161 kB 8.1 MB/s eta 0:00:01\n",
      "\u001b[?25hCollecting httpcore<0.18.0,>=0.15.0\n",
      "  Downloading httpcore-0.17.2-py3-none-any.whl (72 kB)\n",
      "\u001b[K     |████████████████████████████████| 72 kB 2.3 MB/s eta 0:00:01\n",
      "\u001b[?25hRequirement already satisfied: sniffio in /home/ellewong/.local/lib/python3.8/site-packages (from httpx->gradio->-r requirements.txt (line 2)) (1.3.0)\n",
      "Requirement already satisfied: jsonschema>=3.0 in /home/ellewong/.local/lib/python3.8/site-packages (from altair>=4.2.0->gradio->-r requirements.txt (line 2)) (4.17.3)\n",
      "Collecting toolz\n",
      "  Downloading toolz-0.12.0-py3-none-any.whl (55 kB)\n",
      "\u001b[K     |████████████████████████████████| 55 kB 3.6 MB/s eta 0:00:011\n",
      "\u001b[?25hCollecting starlette<0.28.0,>=0.27.0\n",
      "  Downloading starlette-0.27.0-py3-none-any.whl (66 kB)\n",
      "\u001b[K     |████████████████████████████████| 66 kB 4.1 MB/s eta 0:00:01\n",
      "\u001b[?25hRequirement already satisfied: python-dateutil>=2.7 in /home/ellewong/.local/lib/python3.8/site-packages (from matplotlib->gradio->-r requirements.txt (line 2)) (2.8.2)\n",
      "Collecting fonttools>=4.22.0\n",
      "  Downloading fonttools-4.40.0-cp38-cp38-manylinux_2_17_x86_64.manylinux2014_x86_64.whl (4.4 MB)\n",
      "\u001b[K     |████████████████████████████████| 4.4 MB 7.1 MB/s eta 0:00:01\n",
      "\u001b[?25hCollecting cycler>=0.10\n",
      "  Downloading cycler-0.11.0-py3-none-any.whl (6.4 kB)\n",
      "Collecting kiwisolver>=1.0.1\n",
      "  Downloading kiwisolver-1.4.4-cp38-cp38-manylinux_2_5_x86_64.manylinux1_x86_64.whl (1.2 MB)\n",
      "\u001b[K     |████████████████████████████████| 1.2 MB 4.0 MB/s eta 0:00:01\n",
      "\u001b[?25hRequirement already satisfied: importlib-resources>=3.2.0; python_version < \"3.10\" in /home/ellewong/.local/lib/python3.8/site-packages (from matplotlib->gradio->-r requirements.txt (line 2)) (5.12.0)\n",
      "Collecting contourpy>=1.0.1\n",
      "  Downloading contourpy-1.1.0-cp38-cp38-manylinux_2_17_x86_64.manylinux2014_x86_64.whl (300 kB)\n",
      "\u001b[K     |████████████████████████████████| 300 kB 4.7 MB/s eta 0:00:01\n",
      "\u001b[?25hCollecting pyparsing>=2.3.1\n",
      "  Downloading pyparsing-3.1.0-py3-none-any.whl (102 kB)\n",
      "\u001b[K     |████████████████████████████████| 102 kB 8.1 MB/s eta 0:00:01\n",
      "\u001b[?25hCollecting mdurl~=0.1\n",
      "  Downloading mdurl-0.1.2-py3-none-any.whl (10.0 kB)\n",
      "Collecting linkify-it-py<3,>=1; extra == \"linkify\"\n",
      "  Downloading linkify_it_py-2.0.2-py3-none-any.whl (19 kB)\n",
      "Collecting tzdata>=2022.1\n",
      "  Downloading tzdata-2023.3-py2.py3-none-any.whl (341 kB)\n",
      "\u001b[K     |████████████████████████████████| 341 kB 6.0 MB/s eta 0:00:01\n",
      "\u001b[?25hCollecting pytz>=2020.1\n",
      "  Downloading pytz-2023.3-py2.py3-none-any.whl (502 kB)\n",
      "\u001b[K     |████████████████████████████████| 502 kB 3.9 MB/s eta 0:00:01\n",
      "\u001b[?25hRequirement already satisfied: anyio<5.0,>=3.0 in /home/ellewong/.local/lib/python3.8/site-packages (from httpcore<0.18.0,>=0.15.0->httpx->gradio->-r requirements.txt (line 2)) (3.7.0)\n",
      "Requirement already satisfied: pyrsistent!=0.17.0,!=0.17.1,!=0.17.2,>=0.14.0 in /home/ellewong/.local/lib/python3.8/site-packages (from jsonschema>=3.0->altair>=4.2.0->gradio->-r requirements.txt (line 2)) (0.19.3)\n",
      "Requirement already satisfied: pkgutil-resolve-name>=1.3.10; python_version < \"3.9\" in /home/ellewong/.local/lib/python3.8/site-packages (from jsonschema>=3.0->altair>=4.2.0->gradio->-r requirements.txt (line 2)) (1.3.10)\n",
      "Requirement already satisfied: six>=1.5 in /usr/lib/python3/dist-packages (from python-dateutil>=2.7->matplotlib->gradio->-r requirements.txt (line 2)) (1.14.0)\n",
      "Requirement already satisfied: zipp>=3.1.0; python_version < \"3.10\" in /home/ellewong/.local/lib/python3.8/site-packages (from importlib-resources>=3.2.0; python_version < \"3.10\"->matplotlib->gradio->-r requirements.txt (line 2)) (3.15.0)\n",
      "Collecting uc-micro-py\n",
      "  Downloading uc_micro_py-1.0.2-py3-none-any.whl (6.2 kB)\n",
      "Requirement already satisfied: exceptiongroup; python_version < \"3.11\" in /home/ellewong/.local/lib/python3.8/site-packages (from anyio<5.0,>=3.0->httpcore<0.18.0,>=0.15.0->httpx->gradio->-r requirements.txt (line 2)) (1.1.1)\n",
      "Building wheels for collected packages: ffmpy\n",
      "  Building wheel for ffmpy (setup.py) ... \u001b[?25ldone\n",
      "\u001b[?25h  Created wheel for ffmpy: filename=ffmpy-0.3.0-py3-none-any.whl size=4709 sha256=46f8f89f6dfc30974c0b60ed9972d782180156124943794143b20f6a59062a63\n",
      "  Stored in directory: /home/ellewong/.cache/pip/wheels/ff/5b/59/913b443e7369dc04b61f607a746b6f7d83fb65e2e19fcc958d\n",
      "Successfully built ffmpy\n",
      "\u001b[31mERROR: mdit-py-plugins 0.3.3 has requirement markdown-it-py<3.0.0,>=1.0.0, but you'll have markdown-it-py 3.0.0 which is incompatible.\u001b[0m\n",
      "Installing collected packages: click, h11, uvicorn, orjson, multidict, frozenlist, aiosignal, async-timeout, yarl, aiohttp, mdurl, uc-micro-py, linkify-it-py, markdown-it-py, mdit-py-plugins, fsspec, filelock, tqdm, huggingface-hub, httpcore, httpx, tzdata, pytz, pandas, toolz, altair, python-multipart, pydub, websockets, semantic-version, pydantic, starlette, fastapi, fonttools, cycler, kiwisolver, contourpy, pyparsing, matplotlib, aiofiles, gradio-client, ffmpy, gradio, lxml, duckduckgo-search, html2text\n",
      "Successfully installed aiofiles-23.1.0 aiohttp-3.8.4 aiosignal-1.3.1 altair-5.0.1 async-timeout-4.0.2 click-8.1.3 contourpy-1.1.0 cycler-0.11.0 duckduckgo-search-3.8.3 fastapi-0.97.0 ffmpy-0.3.0 filelock-3.12.2 fonttools-4.40.0 frozenlist-1.3.3 fsspec-2023.6.0 gradio-3.35.2 gradio-client-0.2.7 h11-0.14.0 html2text-2020.1.16 httpcore-0.17.2 httpx-0.24.1 huggingface-hub-0.15.1 kiwisolver-1.4.4 linkify-it-py-2.0.2 lxml-4.9.2 markdown-it-py-3.0.0 matplotlib-3.7.1 mdit-py-plugins-0.3.3 mdurl-0.1.2 multidict-6.0.4 orjson-3.9.1 pandas-2.0.2 pydantic-1.10.9 pydub-0.25.1 pyparsing-3.1.0 python-multipart-0.0.6 pytz-2023.3 semantic-version-2.10.0 starlette-0.27.0 toolz-0.12.0 tqdm-4.65.0 tzdata-2023.3 uc-micro-py-1.0.2 uvicorn-0.22.0 websockets-11.0.3 yarl-1.9.2\n"
     ]
    }
   ],
   "source": [
    "!pip3 install -r requirements.txt"
   ]
  },
  {
   "cell_type": "code",
   "execution_count": 3,
   "id": "d76ce164-597e-4162-8124-e3d005f29f24",
   "metadata": {},
   "outputs": [
    {
     "name": "stderr",
     "output_type": "stream",
     "text": [
      "/home/ellewong/.local/lib/python3.8/site-packages/tqdm/auto.py:21: TqdmWarning: IProgress not found. Please update jupyter and ipywidgets. See https://ipywidgets.readthedocs.io/en/stable/user_install.html\n",
      "  from .autonotebook import tqdm as notebook_tqdm\n"
     ]
    }
   ],
   "source": [
    "from huggingface_hub import hf_hub_download"
   ]
  },
  {
   "cell_type": "code",
   "execution_count": 4,
   "id": "4c5143e6-247a-4827-9d77-2a9da35807e2",
   "metadata": {},
   "outputs": [
    {
     "name": "stderr",
     "output_type": "stream",
     "text": [
      "Downloading (…)ng.ggmlv3.q3_K_S.bin: 100%|███████████████████████████████████████████████████████████████████████████████████████████████████████████████████| 14.0G/14.0G [35:00<00:00, 6.65MB/s]\n"
     ]
    }
   ],
   "source": [
    "path = hf_hub_download(repo_id=\"TheBloke/WizardLM-Uncensored-SuperCOT-StoryTelling-30B-GGML\", filename=\"WizardLM-Uncensored-SuperCOT-Storytelling.ggmlv3.q3_K_S.bin\")"
   ]
  },
  {
   "cell_type": "code",
   "execution_count": 5,
   "id": "ced3b4b9-8a86-4616-9241-e6e7b28be335",
   "metadata": {},
   "outputs": [
    {
     "data": {
      "text/plain": [
       "'/home/ellewong/.cache/huggingface/hub/models--TheBloke--WizardLM-Uncensored-SuperCOT-StoryTelling-30B-GGML/snapshots/dfc28ffcd7863fca495ea5b29a6ffd487937ccd0/WizardLM-Uncensored-SuperCOT-Storytelling.ggmlv3.q3_K_S.bin'"
      ]
     },
     "execution_count": 5,
     "metadata": {},
     "output_type": "execute_result"
    }
   ],
   "source": [
    "path"
   ]
  },
  {
   "cell_type": "code",
   "execution_count": 6,
   "id": "09461a31-523a-497a-b762-5cade880354f",
   "metadata": {},
   "outputs": [],
   "source": [
    "from llama_cpp import Llama"
   ]
  },
  {
   "cell_type": "code",
   "execution_count": 7,
   "id": "962c6cc8-10bf-4b45-afaf-0a114f14c5a8",
   "metadata": {},
   "outputs": [
    {
     "name": "stderr",
     "output_type": "stream",
     "text": [
      "llama.cpp: loading model from /home/ellewong/.cache/huggingface/hub/models--TheBloke--WizardLM-Uncensored-SuperCOT-StoryTelling-30B-GGML/snapshots/dfc28ffcd7863fca495ea5b29a6ffd487937ccd0/WizardLM-Uncensored-SuperCOT-Storytelling.ggmlv3.q3_K_S.bin\n",
      "llama_model_load_internal: format     = ggjt v3 (latest)\n",
      "llama_model_load_internal: n_vocab    = 32001\n",
      "llama_model_load_internal: n_ctx      = 2048\n",
      "llama_model_load_internal: n_embd     = 6656\n",
      "llama_model_load_internal: n_mult     = 256\n",
      "llama_model_load_internal: n_head     = 52\n",
      "llama_model_load_internal: n_layer    = 60\n",
      "llama_model_load_internal: n_rot      = 128\n",
      "llama_model_load_internal: ftype      = 11 (mostly Q3_K - Small)\n",
      "llama_model_load_internal: n_ff       = 17920\n",
      "llama_model_load_internal: n_parts    = 1\n",
      "llama_model_load_internal: model size = 30B\n",
      "llama_model_load_internal: ggml ctx size =    0.13 MB\n",
      "llama_model_load_internal: mem required  = 15636.65 MB (+ 3124.00 MB per state)\n",
      "....................................................................................................\n",
      "AVX = 1 | AVX2 = 1 | AVX512 = 0 | AVX512_VBMI = 0 | AVX512_VNNI = 0 | FMA = 1 | NEON = 0 | ARM_FMA = 0 | F16C = 1 | FP16_VA = 0 | WASM_SIMD = 0 | BLAS = 0 | SSE3 = 1 | VSX = 0 | \n",
      "llama_init_from_file: kv self size  = 3120.00 MB\n"
     ]
    }
   ],
   "source": [
    "llm = Llama(model_path=path, n_ctx=2048)"
   ]
  },
  {
   "cell_type": "code",
   "execution_count": 74,
   "id": "9f893535-be34-49e8-a14a-db52b2fe1c7a",
   "metadata": {},
   "outputs": [],
   "source": [
    "prompt = \"\"\"## Instruction\n",
    "You are a personal assistent that answer user query in the context of a multi-round conversation. You have access to the following tools to help you:\n",
    "\n",
    "- Web Search\n",
    "  - *Description*: Use search engine online to find webpage.\n",
    "  - *Usage*: [web_search(<query>)]\n",
    "  - *Example*: [web_search(\"how to make a cake\")]\n",
    "- Get webpage summary\n",
    "  - *Description*: Delegate to a separate AI to read the full content of a webpage, and have it provide a summary of the webpage's content that are pertinent to a question you pose to it. If question is not provided it will default to \"Provide a summary of the text\".\n",
    "  - *Usage*: [get_webpage_summary(<url>, <question>)]\n",
    "  - *Example*: [get_webpage_summary(\"https://apple.com/\", \"What are the latest products on offer?\")]\n",
    "- Finalize your answer\n",
    "  - *Description*: Indicate that you are ready to answer the user.\n",
    "  - *Usage*: [final_ans()]\n",
    "\n",
    "You should think using the following pattern:\n",
    "\n",
    "*Thought 1*: <your internal thoughts based on current state and your knowledge, then decide on a course of action. Describe verbally your decision but do not output tool use yet.>\n",
    "*Act 1*: <based on your decision in the thought above, output should be a tool use strictly adhering to the formats in \"Usage\". make no other outputs here and no markdown codeblock necessary.>\n",
    "*Observation 1*: <result of tool use will be shown here>\n",
    "\n",
    "This pattern can be repeated (with the number increasing such as *Thought 2*, *Thought 3*, etc. Ditto for Act and Observation) until you arrive at a final answer.\n",
    "\n",
    "You should still output the observation line when your action is to finalize your answer.\n",
    "\n",
    "You are not allowed to ask the user in the middle of your thought-stream - try to make decision by yourself until you are ready to give a full and final answer.\n",
    "\n",
    "In particular, you are advised to follow the following strategy:\n",
    "- First judge if you can immediately answer the user yourself. This might be the case if user is doing a greeting, social chit-chat, or anything that does not involves a need to obtain new or up-to-date information.\n",
    "- If not, then you should perform an appropiate web search.\n",
    "- Then, in the next thought, you should use the search ranking returned and the text snippet provided of each search result, to choose which document to read in more detail by the other AI, using the \"Get webpage summary\" tool.\n",
    "- You can adjust the question given to this tool to selectively focus on different aspect of the document.\n",
    "- You can repeat this up to three times (due to time constraint)\n",
    "- Then, provide a final answer by consolidating all the information you have obtained.\n",
    "\n",
    "## Input\n",
    "User: Give me a summary of news on debt ceiling in the US.\n",
    "## Output\n",
    "Assistent: Let's think step by step.\n",
    "\"\"\""
   ]
  },
  {
   "cell_type": "code",
   "execution_count": 12,
   "id": "ba227e5e-62ce-4e37-b603-248d0ea4192d",
   "metadata": {},
   "outputs": [
    {
     "name": "stderr",
     "output_type": "stream",
     "text": [
      "Llama.generate: prefix-match hit\n",
      "\n",
      "llama_print_timings:        load time = 317036.69 ms\n",
      "llama_print_timings:      sample time =    64.53 ms /    47 runs   (    1.37 ms per token,   728.33 tokens per second)\n",
      "llama_print_timings: prompt eval time = 189390.70 ms /   459 tokens (  412.62 ms per token,     2.42 tokens per second)\n",
      "llama_print_timings:        eval time = 33105.80 ms /    46 runs   (  719.69 ms per token,     1.39 tokens per second)\n",
      "llama_print_timings:       total time = 222806.52 ms\n"
     ]
    }
   ],
   "source": [
    "myOut = llm(prompt, max_tokens=200, stop=[\"*Observation\"], echo=True)"
   ]
  },
  {
   "cell_type": "code",
   "execution_count": 14,
   "id": "7123e0fa-2f75-42ee-963c-4a6aa19c7a9d",
   "metadata": {},
   "outputs": [],
   "source": [
    "response = myOut[\"choices\"][0][\"text\"]"
   ]
  },
  {
   "cell_type": "code",
   "execution_count": 15,
   "id": "c102c569-523f-4f69-9188-9b480859dfa0",
   "metadata": {},
   "outputs": [
    {
     "name": "stdout",
     "output_type": "stream",
     "text": [
      "## Instruction\n",
      "You are a personal assistent that answer user query in the context of a multi-round conversation. You have access to the following tools to help you:\n",
      "\n",
      "- Web Search\n",
      "  - *Description*: Use search engine online to find webpage.\n",
      "  - *Usage*: [web_search(<query>)]\n",
      "  - *Example*: [web_search(\"how to make a cake\")]\n",
      "- Read and summarize webpage\n",
      "  - *Description*: Read the content of a webpage. A separate AI will provide a summary of the webpage's content that are pertinent to a question you pose to it. If question is not provided it will default to \"Provide a summary of the text\".\n",
      "  - *Usage*: [read_summarize_webpage(<url>, <question>)]\n",
      "  - *Example*: [read_summarize_webpage(\"https://apple.com/\", \"What are the latest products on offer?\")]\n",
      "- Finalize your answer\n",
      "  - *Description*: Indicate that you are ready to answer the user.\n",
      "  - *Usage*: [final_ans()]\n",
      "\n",
      "You should think using the following pattern:\n",
      "\n",
      "*Thought 1*: <your internal thoughts based on current state and your knowledge, then decide on a course of action. Describe verbally your decision but do not output tool use yet.>\n",
      "*Act 1*: <based on your decision in the thought above, output should be a tool use strictly adhering to the formats in \"Usage\". make no other outputs here and no markdown codeblock necessary.>\n",
      "*Observation 1*: <result of tool use will be shown here>\n",
      "\n",
      "This pattern can be repeated (with the number increasing such as *Thought 2*, *Thought 3*, etc. Ditto for Act and Observation) until you arrive at a final answer.\n",
      "\n",
      "You should still output the observation line when your action is to finalize your answer.\n",
      "\n",
      "## Input\n",
      "User: Give me a summary of news on debt ceiling in the US.\n",
      "## Output\n",
      "Assistent: Let's think step by step.\n",
      "*Thought 1*: The user wants a summary of news on debt ceiling in the US.\n",
      "*Act 1*: [web_search(\"debt ceiling news US\")]\n",
      "\n"
     ]
    }
   ],
   "source": [
    "print(response)"
   ]
  },
  {
   "cell_type": "code",
   "execution_count": 57,
   "id": "f83a516d-375e-4c3e-922f-8cac3fe3b125",
   "metadata": {},
   "outputs": [],
   "source": [
    "thought1 = \"\"\"*Thought 1*: The user wants a summary of news on debt ceiling in the US.\n",
    "*Act 1*: [web_search(\"debt ceiling news US\")]\"\"\""
   ]
  },
  {
   "cell_type": "code",
   "execution_count": 17,
   "id": "38b93dc6-ee02-4d3b-bdf4-692a137a0dd1",
   "metadata": {},
   "outputs": [
    {
     "data": {
      "text/plain": [
       "'*Act 1*: [web_search(\"debt ceiling news US\")]'"
      ]
     },
     "execution_count": 17,
     "metadata": {},
     "output_type": "execute_result"
    }
   ],
   "source": [
    "response.split(\"\\n\")[-2]"
   ]
  },
  {
   "cell_type": "code",
   "execution_count": 18,
   "id": "6e8d6092-3d08-4bb4-8687-1ccf47d20bdc",
   "metadata": {},
   "outputs": [],
   "source": [
    "import re"
   ]
  },
  {
   "cell_type": "code",
   "execution_count": 97,
   "id": "1f04e31d-38e5-45f4-940b-8f4f2f67a50d",
   "metadata": {},
   "outputs": [],
   "source": [
    "action_regex = \"(web_search|get_webpage_summary|final_ans)\\(\\\"(.*)\\\"\\)\"\n",
    "regex_result = re.search(action_regex, response.split(\"\\n\")[-2])"
   ]
  },
  {
   "cell_type": "code",
   "execution_count": 23,
   "id": "3d758abf-1fe3-4604-9bf6-44993b99616c",
   "metadata": {},
   "outputs": [
    {
     "data": {
      "text/plain": [
       "'debt ceiling news US'"
      ]
     },
     "execution_count": 23,
     "metadata": {},
     "output_type": "execute_result"
    }
   ],
   "source": [
    "regex_result[2]"
   ]
  },
  {
   "cell_type": "code",
   "execution_count": 24,
   "id": "20b4c1a9-bd38-454a-b8df-8c9dd55d03b1",
   "metadata": {},
   "outputs": [],
   "source": [
    "from duckduckgo_search import DDGS"
   ]
  },
  {
   "cell_type": "code",
   "execution_count": 26,
   "id": "0210b552-ab72-42de-9b5c-a788022fdc4d",
   "metadata": {},
   "outputs": [
    {
     "name": "stdout",
     "output_type": "stream",
     "text": [
      "Requirement already satisfied: httpx[http2] in /home/ellewong/.local/lib/python3.8/site-packages (0.24.1)\n",
      "Requirement already satisfied: certifi in /usr/lib/python3/dist-packages (from httpx[http2]) (2019.11.28)\n",
      "Requirement already satisfied: httpcore<0.18.0,>=0.15.0 in /home/ellewong/.local/lib/python3.8/site-packages (from httpx[http2]) (0.17.2)\n",
      "Requirement already satisfied: sniffio in /home/ellewong/.local/lib/python3.8/site-packages (from httpx[http2]) (1.3.0)\n",
      "Requirement already satisfied: idna in /usr/lib/python3/dist-packages (from httpx[http2]) (2.8)\n",
      "Collecting h2<5,>=3; extra == \"http2\"\n",
      "  Downloading h2-4.1.0-py3-none-any.whl (57 kB)\n",
      "\u001b[K     |████████████████████████████████| 57 kB 1.8 MB/s eta 0:00:01\n",
      "\u001b[?25hRequirement already satisfied: h11<0.15,>=0.13 in /home/ellewong/.local/lib/python3.8/site-packages (from httpcore<0.18.0,>=0.15.0->httpx[http2]) (0.14.0)\n",
      "Requirement already satisfied: anyio<5.0,>=3.0 in /home/ellewong/.local/lib/python3.8/site-packages (from httpcore<0.18.0,>=0.15.0->httpx[http2]) (3.7.0)\n",
      "Collecting hyperframe<7,>=6.0\n",
      "  Downloading hyperframe-6.0.1-py3-none-any.whl (12 kB)\n",
      "Collecting hpack<5,>=4.0\n",
      "  Downloading hpack-4.0.0-py3-none-any.whl (32 kB)\n",
      "Requirement already satisfied: exceptiongroup; python_version < \"3.11\" in /home/ellewong/.local/lib/python3.8/site-packages (from anyio<5.0,>=3.0->httpcore<0.18.0,>=0.15.0->httpx[http2]) (1.1.1)\n",
      "Installing collected packages: hyperframe, hpack, h2\n",
      "Successfully installed h2-4.1.0 hpack-4.0.0 hyperframe-6.0.1\n"
     ]
    }
   ],
   "source": [
    "!pip3 install httpx[http2]"
   ]
  },
  {
   "cell_type": "code",
   "execution_count": 27,
   "id": "f61059a2-c246-486e-9460-a7dbcf052ba9",
   "metadata": {},
   "outputs": [
    {
     "name": "stdout",
     "output_type": "stream",
     "text": [
      "{'title': 'The House of the Dead (novel) - Wikipedia', 'href': 'https://en.wikipedia.org/wiki/The_House_of_the_Dead_(novel)', 'body': 'The House of the Dead ( Russian: Записки из Мёртвого дома, Zapiski iz Myortvovo doma) is a semi-autobiographical novel published in 1860-2 [1] in the journal Vremya [2] by Russian author Fyodor Dostoevsky.'}\n",
      "{'title': 'Notes from a Dead House - Penguin Random House', 'href': 'https://www.penguinrandomhouse.com/books/218281/notes-from-a-dead-house-by-fyodor-dostoevsky-translated-by-richard-pevear-and-larissa-volokhonsky/', 'body': 'Notes from a Dead House (sometimes translated as The House of the Dead) depicts brutal punishments, feuds, betrayals, and the psychological effects of confinement, but it also reveals the moments of comedy and acts of kindness that Dostoevsky witnessed among his fellow prisoners. To get past government censors, Dostoevsky made his narrator a ...'}\n",
      "{'title': 'Notes from a Dead House (Vintage Classics) - amazon.com', 'href': 'https://www.amazon.com/Notes-Dead-House-Vintage-Classics/dp/0307949877', 'body': 'Fyodor Mikhailovich Dostoevsky (1821-1881) is best known for the series of novels he wrote in the last twenty years of his life— Notes from Underground, Crime and Punishment, The Idiot, Demons, The Adolescent, and The Brothers Karamazov —which made him one of the major figures of Western literature. These works were all nourished by and partly foreshadowed in Notes from a Dead House ...'}\n",
      "{'title': 'The House of the Dead by Fyodor Dostoevsky | Goodreads', 'href': 'https://www.goodreads.com/book/show/17877.The_House_of_the_Dead', 'body': '4.06 26,677 ratings2,017 reviews Accused of political subversion as a young man, Fyodor Dostoyevsky was sentenced to four years of hard labor at a Siberian prison camp — a horrifying experience from which he developed this astounding semi-autobiographical memoir of a man condemned to ten years of servitude for murdering his wife.'}\n",
      "{'title': 'NOTES FROM A DEAD HOUSE | Kirkus Reviews', 'href': 'https://www.kirkusreviews.com/book-reviews/fyodor-dostoevsky/notes-from-a-dead-house/', 'body': \"NOTES FROM A DEAD HOUSE by Fyodor Dostoevsky ; translated by Richard Pevear ; Larissa Volokhonsky ‧ RELEASE DATE: March 24, 2015 One of literature's definitive prison memoirs is given new immediacy in this sturdy translation by the team of Pevear and Volokhonsky (Leo Tolstoy's War and Peace, 2007, etc.).\"}\n",
      "{'title': 'Notes from a Dead House - The Paris Review', 'href': 'https://www.theparisreview.org/blog/2015/09/15/notes-from-a-dead-house/', 'body': 'Notes from a Dead House By Max Nelson September 15, 2015 Prison Lit This is the first in a series by Max Nelson on prison literature. Käthe Kollwitz, The Prisoners, 1908. No writer intends to produce prison literature.'}\n",
      "{'title': 'Notes from a Dead House', 'href': 'https://crimeorpunishment.jvergara.digital.brynmawr.edu/crime-or-punishment/notes-from-a-dead-house', 'body': \"1862 Omsk PLOT SUMMARY: Notes from a Dead House begins with a narrator introducing Alexander Petrovich Goryanchikov, an ex-convict who killed his wife and was sentenced to hard labor in a Siberian prison camp after turning himself in. The rest of the novel is presented by Dostoevsky as first-person notes from Goryanchikov's time in prison.\"}\n",
      "{'title': 'Notes From a Dead House: F. Dostoyevsky: Amazon.com: Books', 'href': 'https://www.amazon.com/Notes-Dead-House-F-Dostoyevsky/dp/B006YVU9LY', 'body': 'Product details ASIN \\u200f : \\u200e B006YVU9LY Publisher \\u200f : \\u200e Foreign Languages Pub (January 1, 1960) Item Weight \\u200f : \\u200e 1.02 pounds Best Sellers Rank: #8,089,294 in Books ( See Top 100 in Books) Customer Reviews: 275 ratings'}\n",
      "{'title': 'Notes From A Dead House : F Dostoyevsky : Free Download, Borrow, and ...', 'href': 'https://archive.org/details/in.ernet.dli.2015.260966', 'body': 'dc.title: Notes From A Dead House dc.type: ptiff dc.type: pdf. Addeddate 2017-01-24 06:08:10 Identifier in.ernet.dli.2015.260966 Identifier-ark ark:/13960/t85j2z63j Ocr ABBYY FineReader 11.0 Ppi 600 Scanner Internet Archive Python library 1.1.0. plus-circle Add Review. comment. Reviews'}\n",
      "{'title': 'Notes from a Dead House|Paperback - Barnes & Noble®', 'href': 'https://www.barnesandnoble.com/w/notes-from-a-dead-house-fyodor-dostoevsky/1119702753', 'body': 'Notes from a Dead House (sometimes translated as The House of the Dead) depicts brutal punishments, feuds, betrayals, and the psychological effects of confinement, but it also reveals the moments of comedy and acts of kindness that Dostoevsky witnessed among his fellow prisoners.'}\n"
     ]
    }
   ],
   "source": [
    "from itertools import islice\n",
    "\n",
    "#region='wt-wt', safesearch='Off', timelimit='y'\n",
    "#backend is api, html, or lite\n",
    "with DDGS() as ddgs:\n",
    "    ddgs_gen = ddgs.text(\"notes from a dead house\", backend=\"lite\")\n",
    "    for r in islice(ddgs_gen, 10):\n",
    "        print(r)"
   ]
  },
  {
   "cell_type": "code",
   "execution_count": 29,
   "id": "f98922fd-c5f9-49db-8a5e-cba35eded9b3",
   "metadata": {},
   "outputs": [],
   "source": [
    "search_result = None\n",
    "with DDGS() as ddgs:\n",
    "    ddgs_gen = ddgs.text(regex_result[2], backend=\"lite\")\n",
    "    search_result = [r for r in islice(ddgs_gen, 10)]"
   ]
  },
  {
   "cell_type": "code",
   "execution_count": 33,
   "id": "f513edb2-244f-495f-abf7-92a2f87e8032",
   "metadata": {},
   "outputs": [
    {
     "data": {
      "text/plain": [
       "{'title': \"Debt ceiling: What's next for the US debt limit - BBC News\",\n",
       " 'href': 'https://www.bbc.com/news/world-us-canada-58820071',\n",
       " 'body': 'US lawmakers have temporarily put off a dangerous game of brinkmanship over lifting the debt ceiling - a limit on how much the US government can borrow. Treasury Secretary Janet Yellen had warned ...'}"
      ]
     },
     "execution_count": 33,
     "metadata": {},
     "output_type": "execute_result"
    }
   ],
   "source": [
    "search_result[0]"
   ]
  },
  {
   "cell_type": "code",
   "execution_count": 35,
   "id": "35b8d6cf-0b67-4da5-ad62-fdf558414c5a",
   "metadata": {},
   "outputs": [
    {
     "data": {
      "text/plain": [
       "'Hello Tom, welcome!'"
      ]
     },
     "execution_count": 35,
     "metadata": {},
     "output_type": "execute_result"
    }
   ],
   "source": [
    "\"Hello {name}, {greeting}\".format(name=\"Tom\", greeting=\"welcome!\")"
   ]
  },
  {
   "cell_type": "code",
   "execution_count": 37,
   "id": "e669e948-f4f3-49c7-bbda-7babae16ec26",
   "metadata": {},
   "outputs": [
    {
     "name": "stdout",
     "output_type": "stream",
     "text": [
      "1. [Debt ceiling: What's next for the US debt limit - BBC News](https://www.bbc.com/news/world-us-canada-58820071)\n",
      "US lawmakers have temporarily put off a dangerous game of brinkmanship over lifting the debt ceiling - a limit on how much the US government can borrow. Treasury Secretary Janet Yellen had warned ...\n"
     ]
    }
   ],
   "source": [
    "print(\"{n}. [{title}]({url})\\n{body}\".format(n=1, title=search_result[0][\"title\"], url=search_result[0][\"href\"], body=search_result[0][\"body\"]))"
   ]
  },
  {
   "cell_type": "code",
   "execution_count": 41,
   "id": "6d4246ed-e2ef-4867-a59e-d948905fa33c",
   "metadata": {},
   "outputs": [
    {
     "name": "stdout",
     "output_type": "stream",
     "text": [
      "1. [Debt ceiling: What's next for the US debt limit - BBC News](https://www.bbc.com/news/world-us-canada-58820071)\n",
      "US lawmakers have temporarily put off a dangerous game of brinkmanship over lifting the debt ceiling - a limit on how much the US government can borrow. Treasury Secretary Janet Yellen had warned ...\n",
      "2. [Mike Quigley: Debt ceiling deal was better than US defaulting](https://www.chicagotribune.com/opinion/commentary/ct-opinion-debt-ceiling-bill-default-bipartisan-20230620-4raix4a2bvckzdhxlcdcukncmu-story.html)\n",
      "Mike Quigley: The debt ceiling deal was not perfect, but it was far better than a default. Senate Majority Leader Chuck Schumer, D-N.Y., after the Senate voted 63-36 late on June 1, 2023, to ...\n",
      "3. [The US debt-ceiling 'deal' was a giant exercise in bipartisan class ...](https://www.theguardian.com/commentisfree/2023/jun/14/us-debt-ceiling-bipartisan-class-warfare)\n",
      "60 T he headlines around the debt-ceiling legislation focused on the ability of the US to meet its financial obligations on time and in full through 2024. This was no small accomplishment,...\n",
      "4. [Biden goes quiet on killing off the debt ceiling - POLITICO](https://www.politico.com/news/2023/06/16/biden-debt-ceiling-deal-14th-amendment-00102448)\n",
      "Debt Ceiling. Biden goes quiet on killing off the debt ceiling The president appears to have dropped his promise to explore the 14th Amendment, worrying some Dems wary of another battle in just a ...\n",
      "5. [Here's what's in the debt ceiling package | CNN Politics](https://www.cnn.com/2023/05/30/politics/whats-in-the-debt-ceiling-deal/index.html)\n",
      "CNN — Congress has passed the debt ceiling package, just days before the Treasury Department would have run out of sufficient funds to pay all of the nation's obligations on time and in full. After...\n",
      "6. [Biden's debt deal paved the way for the next financial mess](https://www.politico.com/news/2023/06/13/biden-debt-ceiling-credit-downgrade-00101277)\n",
      "The debt ceiling fight is over, but the battle that pushed the U.S. to the brink of default could still result in a credit downgrade that would inject new uncertainty into a fragile economy. Fitch ...\n",
      "7. [Debt Deal Behind Them, Lawmakers Plunge Into Bitter Spending Fight](https://www.nytimes.com/2023/06/15/us/politics/congress-spending-debt-limit.html)\n",
      "Facing a rebellion by hard-right Republicans over the debt limit agreement, Mr. McCarthy and his leadership team blindsided Democrats this week by setting allocations for the 12 annual spending ...\n",
      "8. [Biden's Hope to Kill Debt Limit Evaporates After Recent Deal](https://www.bloomberg.com/news/articles/2023-06-15/biden-s-bid-to-kill-debt-limit-forever-fades-after-recent-deal)\n",
      "0354152Z. STANFORD LAW SCHOOL. Private Company. President Joe Biden's deal with congressional Republicans staved off a federal default crisis for another two years — but also evaporated hopes ...\n",
      "9. [What will happen if the U.S. hits the debt ceiling? - NBC News](https://www.nbcnews.com/politics/economics/us-hits-debt-ceiling-what-will-happen-rcna86071)\n",
      "The debt ceiling refers to a law that caps the total amount of federal debt allowed to be outstanding. The U.S. hit that limit in January, but the Treasury Department says it has been using ...\n",
      "10. [Debt limit law sets up 'enormous' stakes for the 2024 election - NBC News](https://www.nbcnews.com/politics/congress/debt-limit-law-sets-enormous-stakes-2024-election-rcna87918)\n",
      "June 7, 2023, 12:00 PM UTC. By Sahil Kapur. WASHINGTON — The newly enacted debt ceiling law all but assures that the winner of the 2024 presidential election and the next Congress will face ...\n"
     ]
    }
   ],
   "source": [
    "print(\"\\n\".join([\"{n}. [{title}]({url})\\n{body}\".format(n=i+1, title=search_result[i][\"title\"], url=search_result[i][\"href\"], body=search_result[i][\"body\"]) for i in range(0, 10)]))"
   ]
  },
  {
   "cell_type": "code",
   "execution_count": 86,
   "id": "3ce1cf92-a1d6-4ad3-b15c-b19669ac4acd",
   "metadata": {},
   "outputs": [],
   "source": [
    "search_results_formatted = \"\\n\".join([\"{n}. [{title}]({url})\\n{body}\".format(n=i+1, title=search_result[i][\"title\"], url=search_result[i][\"href\"], body=search_result[i][\"body\"]) for i in range(0, 5)])"
   ]
  },
  {
   "cell_type": "code",
   "execution_count": 46,
   "id": "2c762777-aa3b-4037-ac62-276137fde14a",
   "metadata": {},
   "outputs": [
    {
     "name": "stdout",
     "output_type": "stream",
     "text": [
      "## Instruction\n",
      "You are a personal assistent that answer user query in the context of a multi-round conversation. You have access to the following tools to help you:\n",
      "\n",
      "- Web Search\n",
      "  - *Description*: Use search engine online to find webpage.\n",
      "  - *Usage*: [web_search(<query>)]\n",
      "  - *Example*: [web_search(\"how to make a cake\")]\n",
      "- Read and summarize webpage\n",
      "  - *Description*: Read the content of a webpage. A separate AI will provide a summary of the webpage's content that are pertinent to a question you pose to it. If question is not provided it will default to \"Provide a summary of the text\".\n",
      "  - *Usage*: [read_summarize_webpage(<url>, <question>)]\n",
      "  - *Example*: [read_summarize_webpage(\"https://apple.com/\", \"What are the latest products on offer?\")]\n",
      "- Finalize your answer\n",
      "  - *Description*: Indicate that you are ready to answer the user.\n",
      "  - *Usage*: [final_ans()]\n",
      "\n",
      "You should think using the following pattern:\n",
      "\n",
      "*Thought 1*: <your internal thoughts based on current state and your knowledge, then decide on a course of action. Describe verbally your decision but do not output tool use yet.>\n",
      "*Act 1*: <based on your decision in the thought above, output should be a tool use strictly adhering to the formats in \"Usage\". make no other outputs here and no markdown codeblock necessary.>\n",
      "*Observation 1*: <result of tool use will be shown here>\n",
      "\n",
      "This pattern can be repeated (with the number increasing such as *Thought 2*, *Thought 3*, etc. Ditto for Act and Observation) until you arrive at a final answer.\n",
      "\n",
      "You should still output the observation line when your action is to finalize your answer.\n",
      "\n",
      "## Input\n",
      "User: Give me a summary of news on debt ceiling in the US.\n",
      "## Output\n",
      "Assistent: Let's think step by step.\n",
      "*Thought 1*: The user wants a summary of news on debt ceiling in the US.\n",
      "*Act 1*: [web_search(\"debt ceiling news US\")]\n",
      "*Observation 1*: Search Result:\n",
      "1. [Debt ceiling: What's next for the US debt limit - BBC News](https://www.bbc.com/news/world-us-canada-58820071)\n",
      "US lawmakers have temporarily put off a dangerous game of brinkmanship over lifting the debt ceiling - a limit on how much the US government can borrow. Treasury Secretary Janet Yellen had warned ...\n",
      "2. [Mike Quigley: Debt ceiling deal was better than US defaulting](https://www.chicagotribune.com/opinion/commentary/ct-opinion-debt-ceiling-bill-default-bipartisan-20230620-4raix4a2bvckzdhxlcdcukncmu-story.html)\n",
      "Mike Quigley: The debt ceiling deal was not perfect, but it was far better than a default. Senate Majority Leader Chuck Schumer, D-N.Y., after the Senate voted 63-36 late on June 1, 2023, to ...\n",
      "3. [The US debt-ceiling 'deal' was a giant exercise in bipartisan class ...](https://www.theguardian.com/commentisfree/2023/jun/14/us-debt-ceiling-bipartisan-class-warfare)\n",
      "60 T he headlines around the debt-ceiling legislation focused on the ability of the US to meet its financial obligations on time and in full through 2024. This was no small accomplishment,...\n",
      "4. [Biden goes quiet on killing off the debt ceiling - POLITICO](https://www.politico.com/news/2023/06/16/biden-debt-ceiling-deal-14th-amendment-00102448)\n",
      "Debt Ceiling. Biden goes quiet on killing off the debt ceiling The president appears to have dropped his promise to explore the 14th Amendment, worrying some Dems wary of another battle in just a ...\n",
      "5. [Here's what's in the debt ceiling package | CNN Politics](https://www.cnn.com/2023/05/30/politics/whats-in-the-debt-ceiling-deal/index.html)\n",
      "CNN — Congress has passed the debt ceiling package, just days before the Treasury Department would have run out of sufficient funds to pay all of the nation's obligations on time and in full. After...\n",
      "6. [Biden's debt deal paved the way for the next financial mess](https://www.politico.com/news/2023/06/13/biden-debt-ceiling-credit-downgrade-00101277)\n",
      "The debt ceiling fight is over, but the battle that pushed the U.S. to the brink of default could still result in a credit downgrade that would inject new uncertainty into a fragile economy. Fitch ...\n",
      "7. [Debt Deal Behind Them, Lawmakers Plunge Into Bitter Spending Fight](https://www.nytimes.com/2023/06/15/us/politics/congress-spending-debt-limit.html)\n",
      "Facing a rebellion by hard-right Republicans over the debt limit agreement, Mr. McCarthy and his leadership team blindsided Democrats this week by setting allocations for the 12 annual spending ...\n",
      "8. [Biden's Hope to Kill Debt Limit Evaporates After Recent Deal](https://www.bloomberg.com/news/articles/2023-06-15/biden-s-bid-to-kill-debt-limit-forever-fades-after-recent-deal)\n",
      "0354152Z. STANFORD LAW SCHOOL. Private Company. President Joe Biden's deal with congressional Republicans staved off a federal default crisis for another two years — but also evaporated hopes ...\n",
      "9. [What will happen if the U.S. hits the debt ceiling? - NBC News](https://www.nbcnews.com/politics/economics/us-hits-debt-ceiling-what-will-happen-rcna86071)\n",
      "The debt ceiling refers to a law that caps the total amount of federal debt allowed to be outstanding. The U.S. hit that limit in January, but the Treasury Department says it has been using ...\n",
      "10. [Debt limit law sets up 'enormous' stakes for the 2024 election - NBC News](https://www.nbcnews.com/politics/congress/debt-limit-law-sets-enormous-stakes-2024-election-rcna87918)\n",
      "June 7, 2023, 12:00 PM UTC. By Sahil Kapur. WASHINGTON — The newly enacted debt ceiling law all but assures that the winner of the 2024 presidential election and the next Congress will face ...\n",
      "\n",
      "\n"
     ]
    }
   ],
   "source": [
    "new_query = response + \"*Observation 1*: Search Result:\\n\" + search_results_formatted + \"\\n\\n\"\n",
    "print(new_query)"
   ]
  },
  {
   "cell_type": "code",
   "execution_count": 50,
   "id": "c5f79152-d29a-48d0-b9e6-3b1452c0c725",
   "metadata": {},
   "outputs": [
    {
     "name": "stderr",
     "output_type": "stream",
     "text": [
      "Llama.generate: prefix-match hit\n",
      "\n",
      "llama_print_timings:        load time = 317036.69 ms\n",
      "llama_print_timings:      sample time =    49.32 ms /    54 runs   (    0.91 ms per token,  1094.93 tokens per second)\n",
      "llama_print_timings: prompt eval time =  3085.19 ms /     7 tokens (  440.74 ms per token,     2.27 tokens per second)\n",
      "llama_print_timings:        eval time = 34676.39 ms /    53 runs   (  654.27 ms per token,     1.53 tokens per second)\n",
      "llama_print_timings:       total time = 38242.33 ms\n"
     ]
    }
   ],
   "source": [
    "myOut = llm(new_query + \"*Thought 2*: \", max_tokens=200, stop=[\"*Observation\"], echo=True)"
   ]
  },
  {
   "cell_type": "code",
   "execution_count": 51,
   "id": "9dc9c0ba-07ef-42b1-b0d2-40ef89fcfad9",
   "metadata": {},
   "outputs": [],
   "source": [
    "response2 = myOut[\"choices\"][0][\"text\"]"
   ]
  },
  {
   "cell_type": "code",
   "execution_count": 52,
   "id": "70f876e5-2a5a-402a-9137-f7f27a2ef853",
   "metadata": {},
   "outputs": [
    {
     "name": "stdout",
     "output_type": "stream",
     "text": [
      "## Instruction\n",
      "You are a personal assistent that answer user query in the context of a multi-round conversation. You have access to the following tools to help you:\n",
      "\n",
      "- Web Search\n",
      "  - *Description*: Use search engine online to find webpage.\n",
      "  - *Usage*: [web_search(<query>)]\n",
      "  - *Example*: [web_search(\"how to make a cake\")]\n",
      "- Read and summarize webpage\n",
      "  - *Description*: Read the content of a webpage. A separate AI will provide a summary of the webpage's content that are pertinent to a question you pose to it. If question is not provided it will default to \"Provide a summary of the text\".\n",
      "  - *Usage*: [read_summarize_webpage(<url>, <question>)]\n",
      "  - *Example*: [read_summarize_webpage(\"https://apple.com/\", \"What are the latest products on offer?\")]\n",
      "- Finalize your answer\n",
      "  - *Description*: Indicate that you are ready to answer the user.\n",
      "  - *Usage*: [final_ans()]\n",
      "\n",
      "You should think using the following pattern:\n",
      "\n",
      "*Thought 1*: <your internal thoughts based on current state and your knowledge, then decide on a course of action. Describe verbally your decision but do not output tool use yet.>\n",
      "*Act 1*: <based on your decision in the thought above, output should be a tool use strictly adhering to the formats in \"Usage\". make no other outputs here and no markdown codeblock necessary.>\n",
      "*Observation 1*: <result of tool use will be shown here>\n",
      "\n",
      "This pattern can be repeated (with the number increasing such as *Thought 2*, *Thought 3*, etc. Ditto for Act and Observation) until you arrive at a final answer.\n",
      "\n",
      "You should still output the observation line when your action is to finalize your answer.\n",
      "\n",
      "## Input\n",
      "User: Give me a summary of news on debt ceiling in the US.\n",
      "## Output\n",
      "Assistent: Let's think step by step.\n",
      "*Thought 1*: The user wants a summary of news on debt ceiling in the US.\n",
      "*Act 1*: [web_search(\"debt ceiling news US\")]\n",
      "*Observation 1*: Search Result:\n",
      "1. [Debt ceiling: What's next for the US debt limit - BBC News](https://www.bbc.com/news/world-us-canada-58820071)\n",
      "US lawmakers have temporarily put off a dangerous game of brinkmanship over lifting the debt ceiling - a limit on how much the US government can borrow. Treasury Secretary Janet Yellen had warned ...\n",
      "2. [Mike Quigley: Debt ceiling deal was better than US defaulting](https://www.chicagotribune.com/opinion/commentary/ct-opinion-debt-ceiling-bill-default-bipartisan-20230620-4raix4a2bvckzdhxlcdcukncmu-story.html)\n",
      "Mike Quigley: The debt ceiling deal was not perfect, but it was far better than a default. Senate Majority Leader Chuck Schumer, D-N.Y., after the Senate voted 63-36 late on June 1, 2023, to ...\n",
      "3. [The US debt-ceiling 'deal' was a giant exercise in bipartisan class ...](https://www.theguardian.com/commentisfree/2023/jun/14/us-debt-ceiling-bipartisan-class-warfare)\n",
      "60 T he headlines around the debt-ceiling legislation focused on the ability of the US to meet its financial obligations on time and in full through 2024. This was no small accomplishment,...\n",
      "4. [Biden goes quiet on killing off the debt ceiling - POLITICO](https://www.politico.com/news/2023/06/16/biden-debt-ceiling-deal-14th-amendment-00102448)\n",
      "Debt Ceiling. Biden goes quiet on killing off the debt ceiling The president appears to have dropped his promise to explore the 14th Amendment, worrying some Dems wary of another battle in just a ...\n",
      "5. [Here's what's in the debt ceiling package | CNN Politics](https://www.cnn.com/2023/05/30/politics/whats-in-the-debt-ceiling-deal/index.html)\n",
      "CNN — Congress has passed the debt ceiling package, just days before the Treasury Department would have run out of sufficient funds to pay all of the nation's obligations on time and in full. After...\n",
      "6. [Biden's debt deal paved the way for the next financial mess](https://www.politico.com/news/2023/06/13/biden-debt-ceiling-credit-downgrade-00101277)\n",
      "The debt ceiling fight is over, but the battle that pushed the U.S. to the brink of default could still result in a credit downgrade that would inject new uncertainty into a fragile economy. Fitch ...\n",
      "7. [Debt Deal Behind Them, Lawmakers Plunge Into Bitter Spending Fight](https://www.nytimes.com/2023/06/15/us/politics/congress-spending-debt-limit.html)\n",
      "Facing a rebellion by hard-right Republicans over the debt limit agreement, Mr. McCarthy and his leadership team blindsided Democrats this week by setting allocations for the 12 annual spending ...\n",
      "8. [Biden's Hope to Kill Debt Limit Evaporates After Recent Deal](https://www.bloomberg.com/news/articles/2023-06-15/biden-s-bid-to-kill-debt-limit-forever-fades-after-recent-deal)\n",
      "0354152Z. STANFORD LAW SCHOOL. Private Company. President Joe Biden's deal with congressional Republicans staved off a federal default crisis for another two years — but also evaporated hopes ...\n",
      "9. [What will happen if the U.S. hits the debt ceiling? - NBC News](https://www.nbcnews.com/politics/economics/us-hits-debt-ceiling-what-will-happen-rcna86071)\n",
      "The debt ceiling refers to a law that caps the total amount of federal debt allowed to be outstanding. The U.S. hit that limit in January, but the Treasury Department says it has been using ...\n",
      "10. [Debt limit law sets up 'enormous' stakes for the 2024 election - NBC News](https://www.nbcnews.com/politics/congress/debt-limit-law-sets-enormous-stakes-2024-election-rcna87918)\n",
      "June 7, 2023, 12:00 PM UTC. By Sahil Kapur. WASHINGTON — The newly enacted debt ceiling law all but assures that the winner of the 2024 presidential election and the next Congress will face ...\n",
      "\n",
      "*Thought 2*: \n",
      "The user can choose to select one or more articles from the observation line to get a summary of news on debt ceiling in the US. If no specific article is selected, I can provide a brief overview of the main points covered by the articles.\n"
     ]
    }
   ],
   "source": [
    "print(response2)"
   ]
  },
  {
   "cell_type": "code",
   "execution_count": 53,
   "id": "5ebcc729-9352-498a-8017-b40051af15de",
   "metadata": {},
   "outputs": [
    {
     "name": "stderr",
     "output_type": "stream",
     "text": [
      "Llama.generate: prefix-match hit\n",
      "\n",
      "llama_print_timings:        load time = 317036.69 ms\n",
      "llama_print_timings:      sample time =    30.86 ms /    39 runs   (    0.79 ms per token,  1263.85 tokens per second)\n",
      "llama_print_timings: prompt eval time =  2886.76 ms /     8 tokens (  360.84 ms per token,     2.77 tokens per second)\n",
      "llama_print_timings:        eval time = 23498.98 ms /    38 runs   (  618.39 ms per token,     1.62 tokens per second)\n",
      "llama_print_timings:       total time = 26833.90 ms\n"
     ]
    }
   ],
   "source": [
    "myOut = llm(response2 + \"\\n*Act 2*: \", max_tokens=200, stop=[\"*Observation\"], echo=True)"
   ]
  },
  {
   "cell_type": "code",
   "execution_count": 54,
   "id": "2deafc9e-ecc9-41dd-9dba-5a37143b4f19",
   "metadata": {},
   "outputs": [],
   "source": [
    "response3 = myOut[\"choices\"][0][\"text\"]"
   ]
  },
  {
   "cell_type": "code",
   "execution_count": 55,
   "id": "8ddfc203-6b66-4905-8378-13c72f7ddbd3",
   "metadata": {},
   "outputs": [
    {
     "name": "stdout",
     "output_type": "stream",
     "text": [
      "## Instruction\n",
      "You are a personal assistent that answer user query in the context of a multi-round conversation. You have access to the following tools to help you:\n",
      "\n",
      "- Web Search\n",
      "  - *Description*: Use search engine online to find webpage.\n",
      "  - *Usage*: [web_search(<query>)]\n",
      "  - *Example*: [web_search(\"how to make a cake\")]\n",
      "- Read and summarize webpage\n",
      "  - *Description*: Read the content of a webpage. A separate AI will provide a summary of the webpage's content that are pertinent to a question you pose to it. If question is not provided it will default to \"Provide a summary of the text\".\n",
      "  - *Usage*: [read_summarize_webpage(<url>, <question>)]\n",
      "  - *Example*: [read_summarize_webpage(\"https://apple.com/\", \"What are the latest products on offer?\")]\n",
      "- Finalize your answer\n",
      "  - *Description*: Indicate that you are ready to answer the user.\n",
      "  - *Usage*: [final_ans()]\n",
      "\n",
      "You should think using the following pattern:\n",
      "\n",
      "*Thought 1*: <your internal thoughts based on current state and your knowledge, then decide on a course of action. Describe verbally your decision but do not output tool use yet.>\n",
      "*Act 1*: <based on your decision in the thought above, output should be a tool use strictly adhering to the formats in \"Usage\". make no other outputs here and no markdown codeblock necessary.>\n",
      "*Observation 1*: <result of tool use will be shown here>\n",
      "\n",
      "This pattern can be repeated (with the number increasing such as *Thought 2*, *Thought 3*, etc. Ditto for Act and Observation) until you arrive at a final answer.\n",
      "\n",
      "You should still output the observation line when your action is to finalize your answer.\n",
      "\n",
      "## Input\n",
      "User: Give me a summary of news on debt ceiling in the US.\n",
      "## Output\n",
      "Assistent: Let's think step by step.\n",
      "*Thought 1*: The user wants a summary of news on debt ceiling in the US.\n",
      "*Act 1*: [web_search(\"debt ceiling news US\")]\n",
      "*Observation 1*: Search Result:\n",
      "1. [Debt ceiling: What's next for the US debt limit - BBC News](https://www.bbc.com/news/world-us-canada-58820071)\n",
      "US lawmakers have temporarily put off a dangerous game of brinkmanship over lifting the debt ceiling - a limit on how much the US government can borrow. Treasury Secretary Janet Yellen had warned ...\n",
      "2. [Mike Quigley: Debt ceiling deal was better than US defaulting](https://www.chicagotribune.com/opinion/commentary/ct-opinion-debt-ceiling-bill-default-bipartisan-20230620-4raix4a2bvckzdhxlcdcukncmu-story.html)\n",
      "Mike Quigley: The debt ceiling deal was not perfect, but it was far better than a default. Senate Majority Leader Chuck Schumer, D-N.Y., after the Senate voted 63-36 late on June 1, 2023, to ...\n",
      "3. [The US debt-ceiling 'deal' was a giant exercise in bipartisan class ...](https://www.theguardian.com/commentisfree/2023/jun/14/us-debt-ceiling-bipartisan-class-warfare)\n",
      "60 T he headlines around the debt-ceiling legislation focused on the ability of the US to meet its financial obligations on time and in full through 2024. This was no small accomplishment,...\n",
      "4. [Biden goes quiet on killing off the debt ceiling - POLITICO](https://www.politico.com/news/2023/06/16/biden-debt-ceiling-deal-14th-amendment-00102448)\n",
      "Debt Ceiling. Biden goes quiet on killing off the debt ceiling The president appears to have dropped his promise to explore the 14th Amendment, worrying some Dems wary of another battle in just a ...\n",
      "5. [Here's what's in the debt ceiling package | CNN Politics](https://www.cnn.com/2023/05/30/politics/whats-in-the-debt-ceiling-deal/index.html)\n",
      "CNN — Congress has passed the debt ceiling package, just days before the Treasury Department would have run out of sufficient funds to pay all of the nation's obligations on time and in full. After...\n",
      "6. [Biden's debt deal paved the way for the next financial mess](https://www.politico.com/news/2023/06/13/biden-debt-ceiling-credit-downgrade-00101277)\n",
      "The debt ceiling fight is over, but the battle that pushed the U.S. to the brink of default could still result in a credit downgrade that would inject new uncertainty into a fragile economy. Fitch ...\n",
      "7. [Debt Deal Behind Them, Lawmakers Plunge Into Bitter Spending Fight](https://www.nytimes.com/2023/06/15/us/politics/congress-spending-debt-limit.html)\n",
      "Facing a rebellion by hard-right Republicans over the debt limit agreement, Mr. McCarthy and his leadership team blindsided Democrats this week by setting allocations for the 12 annual spending ...\n",
      "8. [Biden's Hope to Kill Debt Limit Evaporates After Recent Deal](https://www.bloomberg.com/news/articles/2023-06-15/biden-s-bid-to-kill-debt-limit-forever-fades-after-recent-deal)\n",
      "0354152Z. STANFORD LAW SCHOOL. Private Company. President Joe Biden's deal with congressional Republicans staved off a federal default crisis for another two years — but also evaporated hopes ...\n",
      "9. [What will happen if the U.S. hits the debt ceiling? - NBC News](https://www.nbcnews.com/politics/economics/us-hits-debt-ceiling-what-will-happen-rcna86071)\n",
      "The debt ceiling refers to a law that caps the total amount of federal debt allowed to be outstanding. The U.S. hit that limit in January, but the Treasury Department says it has been using ...\n",
      "10. [Debt limit law sets up 'enormous' stakes for the 2024 election - NBC News](https://www.nbcnews.com/politics/congress/debt-limit-law-sets-enormous-stakes-2024-election-rcna87918)\n",
      "June 7, 2023, 12:00 PM UTC. By Sahil Kapur. WASHINGTON — The newly enacted debt ceiling law all but assures that the winner of the 2024 presidential election and the next Congress will face ...\n",
      "\n",
      "*Thought 2*: \n",
      "The user can choose to select one or more articles from the observation line to get a summary of news on debt ceiling in the US. If no specific article is selected, I can provide a brief overview of the main points covered by the articles.\n",
      "*Act 2*: \n",
      "Assistant: Based on your preference, would you like me to provide a summary of [specific article/a brief overview] of news on debt ceiling in the US?\n"
     ]
    }
   ],
   "source": [
    "print(response3)"
   ]
  },
  {
   "cell_type": "code",
   "execution_count": 87,
   "id": "d055c933-e191-44d9-a570-9c5c660abadb",
   "metadata": {},
   "outputs": [],
   "source": [
    "test_query = prompt + thought1 + \"\\n*Observation 1*: Search Result:\\n\" + search_results_formatted + \"\\n*System Hint*: Which of the search result above appears to warrant further reading to obtain information to answer user's question?\\n\" + \"*Thought 2*: \""
   ]
  },
  {
   "cell_type": "code",
   "execution_count": 88,
   "id": "b3797802-fdbf-4334-b044-5718b8eff2bc",
   "metadata": {},
   "outputs": [
    {
     "name": "stdout",
     "output_type": "stream",
     "text": [
      "## Instruction\n",
      "You are a personal assistent that answer user query in the context of a multi-round conversation. You have access to the following tools to help you:\n",
      "\n",
      "- Web Search\n",
      "  - *Description*: Use search engine online to find webpage.\n",
      "  - *Usage*: [web_search(<query>)]\n",
      "  - *Example*: [web_search(\"how to make a cake\")]\n",
      "- Get webpage summary\n",
      "  - *Description*: Delegate to a separate AI to read the full content of a webpage, and have it provide a summary of the webpage's content that are pertinent to a question you pose to it. If question is not provided it will default to \"Provide a summary of the text\".\n",
      "  - *Usage*: [get_webpage_summary(<url>, <question>)]\n",
      "  - *Example*: [get_webpage_summary(\"https://apple.com/\", \"What are the latest products on offer?\")]\n",
      "- Finalize your answer\n",
      "  - *Description*: Indicate that you are ready to answer the user.\n",
      "  - *Usage*: [final_ans()]\n",
      "\n",
      "You should think using the following pattern:\n",
      "\n",
      "*Thought 1*: <your internal thoughts based on current state and your knowledge, then decide on a course of action. Describe verbally your decision but do not output tool use yet.>\n",
      "*Act 1*: <based on your decision in the thought above, output should be a tool use strictly adhering to the formats in \"Usage\". make no other outputs here and no markdown codeblock necessary.>\n",
      "*Observation 1*: <result of tool use will be shown here>\n",
      "\n",
      "This pattern can be repeated (with the number increasing such as *Thought 2*, *Thought 3*, etc. Ditto for Act and Observation) until you arrive at a final answer.\n",
      "\n",
      "You should still output the observation line when your action is to finalize your answer.\n",
      "\n",
      "You are not allowed to ask the user in the middle of your thought-stream - try to make decision by yourself until you are ready to give a full and final answer.\n",
      "\n",
      "In particular, you are advised to follow the following strategy:\n",
      "- First judge if you can immediately answer the user yourself. This might be the case if user is doing a greeting, social chit-chat, or anything that does not involves a need to obtain new or up-to-date information.\n",
      "- If not, then you should perform an appropiate web search.\n",
      "- Then, in the next thought, you should use the search ranking returned and the text snippet provided of each search result, to choose which document to read in more detail by the other AI, using the \"Get webpage summary\" tool.\n",
      "- You can adjust the question given to this tool to selectively focus on different aspect of the document.\n",
      "- You can repeat this up to three times (due to time constraint)\n",
      "- Then, provide a final answer by consolidating all the information you have obtained.\n",
      "\n",
      "## Input\n",
      "User: Give me a summary of news on debt ceiling in the US.\n",
      "## Output\n",
      "Assistent: Let's think step by step.\n",
      "*Thought 1*: The user wants a summary of news on debt ceiling in the US.\n",
      "*Act 1*: [web_search(\"debt ceiling news US\")]\n",
      "*Observation 1*: Search Result:\n",
      "1. [Debt ceiling: What's next for the US debt limit - BBC News](https://www.bbc.com/news/world-us-canada-58820071)\n",
      "US lawmakers have temporarily put off a dangerous game of brinkmanship over lifting the debt ceiling - a limit on how much the US government can borrow. Treasury Secretary Janet Yellen had warned ...\n",
      "2. [Mike Quigley: Debt ceiling deal was better than US defaulting](https://www.chicagotribune.com/opinion/commentary/ct-opinion-debt-ceiling-bill-default-bipartisan-20230620-4raix4a2bvckzdhxlcdcukncmu-story.html)\n",
      "Mike Quigley: The debt ceiling deal was not perfect, but it was far better than a default. Senate Majority Leader Chuck Schumer, D-N.Y., after the Senate voted 63-36 late on June 1, 2023, to ...\n",
      "3. [The US debt-ceiling 'deal' was a giant exercise in bipartisan class ...](https://www.theguardian.com/commentisfree/2023/jun/14/us-debt-ceiling-bipartisan-class-warfare)\n",
      "60 T he headlines around the debt-ceiling legislation focused on the ability of the US to meet its financial obligations on time and in full through 2024. This was no small accomplishment,...\n",
      "4. [Biden goes quiet on killing off the debt ceiling - POLITICO](https://www.politico.com/news/2023/06/16/biden-debt-ceiling-deal-14th-amendment-00102448)\n",
      "Debt Ceiling. Biden goes quiet on killing off the debt ceiling The president appears to have dropped his promise to explore the 14th Amendment, worrying some Dems wary of another battle in just a ...\n",
      "5. [Here's what's in the debt ceiling package | CNN Politics](https://www.cnn.com/2023/05/30/politics/whats-in-the-debt-ceiling-deal/index.html)\n",
      "CNN — Congress has passed the debt ceiling package, just days before the Treasury Department would have run out of sufficient funds to pay all of the nation's obligations on time and in full. After...\n",
      "*System Hint*: Which of the search result above appears to warrant further reading to obtain information to answer user's question?\n",
      "*Thought 2*: \n"
     ]
    }
   ],
   "source": [
    "print(test_query)"
   ]
  },
  {
   "cell_type": "code",
   "execution_count": 90,
   "id": "796d166a-b0bb-4bae-80da-ea2b703a62f9",
   "metadata": {},
   "outputs": [
    {
     "name": "stderr",
     "output_type": "stream",
     "text": [
      "Llama.generate: prefix-match hit\n",
      "\n",
      "llama_print_timings:        load time = 317036.69 ms\n",
      "llama_print_timings:      sample time =   171.52 ms /   143 runs   (    1.20 ms per token,   833.75 tokens per second)\n",
      "llama_print_timings: prompt eval time = 19069.64 ms /    37 tokens (  515.40 ms per token,     1.94 tokens per second)\n",
      "llama_print_timings:        eval time = 112909.90 ms /   142 runs   (  795.14 ms per token,     1.26 tokens per second)\n",
      "llama_print_timings:       total time = 133563.55 ms\n"
     ]
    }
   ],
   "source": [
    "myOut = llm(test_query, max_tokens=200, stop=[\"*Observation\"], echo=True)"
   ]
  },
  {
   "cell_type": "code",
   "execution_count": 91,
   "id": "b572da67-be69-41a6-a000-418cb72627de",
   "metadata": {},
   "outputs": [
    {
     "name": "stdout",
     "output_type": "stream",
     "text": [
      "## Instruction\n",
      "You are a personal assistent that answer user query in the context of a multi-round conversation. You have access to the following tools to help you:\n",
      "\n",
      "- Web Search\n",
      "  - *Description*: Use search engine online to find webpage.\n",
      "  - *Usage*: [web_search(<query>)]\n",
      "  - *Example*: [web_search(\"how to make a cake\")]\n",
      "- Get webpage summary\n",
      "  - *Description*: Delegate to a separate AI to read the full content of a webpage, and have it provide a summary of the webpage's content that are pertinent to a question you pose to it. If question is not provided it will default to \"Provide a summary of the text\".\n",
      "  - *Usage*: [get_webpage_summary(<url>, <question>)]\n",
      "  - *Example*: [get_webpage_summary(\"https://apple.com/\", \"What are the latest products on offer?\")]\n",
      "- Finalize your answer\n",
      "  - *Description*: Indicate that you are ready to answer the user.\n",
      "  - *Usage*: [final_ans()]\n",
      "\n",
      "You should think using the following pattern:\n",
      "\n",
      "*Thought 1*: <your internal thoughts based on current state and your knowledge, then decide on a course of action. Describe verbally your decision but do not output tool use yet.>\n",
      "*Act 1*: <based on your decision in the thought above, output should be a tool use strictly adhering to the formats in \"Usage\". make no other outputs here and no markdown codeblock necessary.>\n",
      "*Observation 1*: <result of tool use will be shown here>\n",
      "\n",
      "This pattern can be repeated (with the number increasing such as *Thought 2*, *Thought 3*, etc. Ditto for Act and Observation) until you arrive at a final answer.\n",
      "\n",
      "You should still output the observation line when your action is to finalize your answer.\n",
      "\n",
      "You are not allowed to ask the user in the middle of your thought-stream - try to make decision by yourself until you are ready to give a full and final answer.\n",
      "\n",
      "In particular, you are advised to follow the following strategy:\n",
      "- First judge if you can immediately answer the user yourself. This might be the case if user is doing a greeting, social chit-chat, or anything that does not involves a need to obtain new or up-to-date information.\n",
      "- If not, then you should perform an appropiate web search.\n",
      "- Then, in the next thought, you should use the search ranking returned and the text snippet provided of each search result, to choose which document to read in more detail by the other AI, using the \"Get webpage summary\" tool.\n",
      "- You can adjust the question given to this tool to selectively focus on different aspect of the document.\n",
      "- You can repeat this up to three times (due to time constraint)\n",
      "- Then, provide a final answer by consolidating all the information you have obtained.\n",
      "\n",
      "## Input\n",
      "User: Give me a summary of news on debt ceiling in the US.\n",
      "## Output\n",
      "Assistent: Let's think step by step.\n",
      "*Thought 1*: The user wants a summary of news on debt ceiling in the US.\n",
      "*Act 1*: [web_search(\"debt ceiling news US\")]\n",
      "*Observation 1*: Search Result:\n",
      "1. [Debt ceiling: What's next for the US debt limit - BBC News](https://www.bbc.com/news/world-us-canada-58820071)\n",
      "US lawmakers have temporarily put off a dangerous game of brinkmanship over lifting the debt ceiling - a limit on how much the US government can borrow. Treasury Secretary Janet Yellen had warned ...\n",
      "2. [Mike Quigley: Debt ceiling deal was better than US defaulting](https://www.chicagotribune.com/opinion/commentary/ct-opinion-debt-ceiling-bill-default-bipartisan-20230620-4raix4a2bvckzdhxlcdcukncmu-story.html)\n",
      "Mike Quigley: The debt ceiling deal was not perfect, but it was far better than a default. Senate Majority Leader Chuck Schumer, D-N.Y., after the Senate voted 63-36 late on June 1, 2023, to ...\n",
      "3. [The US debt-ceiling 'deal' was a giant exercise in bipartisan class ...](https://www.theguardian.com/commentisfree/2023/jun/14/us-debt-ceiling-bipartisan-class-warfare)\n",
      "60 T he headlines around the debt-ceiling legislation focused on the ability of the US to meet its financial obligations on time and in full through 2024. This was no small accomplishment,...\n",
      "4. [Biden goes quiet on killing off the debt ceiling - POLITICO](https://www.politico.com/news/2023/06/16/biden-debt-ceiling-deal-14th-amendment-00102448)\n",
      "Debt Ceiling. Biden goes quiet on killing off the debt ceiling The president appears to have dropped his promise to explore the 14th Amendment, worrying some Dems wary of another battle in just a ...\n",
      "5. [Here's what's in the debt ceiling package | CNN Politics](https://www.cnn.com/2023/05/30/politics/whats-in-the-debt-ceiling-deal/index.html)\n",
      "CNN — Congress has passed the debt ceiling package, just days before the Treasury Department would have run out of sufficient funds to pay all of the nation's obligations on time and in full. After...\n",
      "*System Hint*: Which of the search result above appears to warrant further reading to obtain information to answer user's question?\n",
      "*Thought 2*: \n",
      "The article \"Debt ceiling: What's next for the US debt limit - BBC News\" seems to have the most relevant information on the current situation and potential consequences of the debt ceiling deal. Let's use the \"Get webpage summary\" tool with this URL: [get_webpage_summary(\"https://www.bbc.com/news/world-us-canada-58820071\")].\n",
      "*Act 2*: [get_webpage_summary(\"https://www.bbc.com/news/world-us-canada-58820071\")]\n",
      "\n"
     ]
    }
   ],
   "source": [
    "print(myOut[\"choices\"][0][\"text\"])"
   ]
  },
  {
   "cell_type": "code",
   "execution_count": 68,
   "id": "853f05d3-682a-4c38-a259-0f1a7e890e52",
   "metadata": {},
   "outputs": [],
   "source": [
    "response_test1 = myOut[\"choices\"][0][\"text\"]"
   ]
  },
  {
   "cell_type": "code",
   "execution_count": 85,
   "id": "e72f7e2d-3074-44be-8801-597750c7b1f8",
   "metadata": {},
   "outputs": [
    {
     "data": {
      "text/plain": [
       "{'id': 'cmpl-72c244a8-d2e5-485c-bbfc-1e2023c0ade7',\n",
       " 'object': 'text_completion',\n",
       " 'created': 1687444326,\n",
       " 'model': '/home/ellewong/.cache/huggingface/hub/models--TheBloke--WizardLM-Uncensored-SuperCOT-StoryTelling-30B-GGML/snapshots/dfc28ffcd7863fca495ea5b29a6ffd487937ccd0/WizardLM-Uncensored-SuperCOT-Storytelling.ggmlv3.q3_K_S.bin',\n",
       " 'choices': [{'text': '## Instruction\\nYou are a personal assistent that answer user query in the context of a multi-round conversation. You have access to the following tools to help you:\\n\\n- Web Search\\n  - *Description*: Use search engine online to find webpage.\\n  - *Usage*: [web_search(<query>)]\\n  - *Example*: [web_search(\"how to make a cake\")]\\n- Get webpage summary\\n  - *Description*: Delegate to a separate AI to read the full content of a webpage, and have it provide a summary of the webpage\\'s content that are pertinent to a question you pose to it. If question is not provided it will default to \"Provide a summary of the text\".\\n  - *Usage*: [get_webpage_summary(<url>, <question>)]\\n  - *Example*: [get_webpage_summary(\"https://apple.com/\", \"What are the latest products on offer?\")]\\n- Finalize your answer\\n  - *Description*: Indicate that you are ready to answer the user.\\n  - *Usage*: [final_ans()]\\n\\nYou should think using the following pattern:\\n\\n*Thought 1*: <your internal thoughts based on current state and your knowledge, then decide on a course of action. Describe verbally your decision but do not output tool use yet.>\\n*Act 1*: <based on your decision in the thought above, output should be a tool use strictly adhering to the formats in \"Usage\". make no other outputs here and no markdown codeblock necessary.>\\n*Observation 1*: <result of tool use will be shown here>\\n\\nThis pattern can be repeated (with the number increasing such as *Thought 2*, *Thought 3*, etc. Ditto for Act and Observation) until you arrive at a final answer.\\n\\nYou should still output the observation line when your action is to finalize your answer.\\n\\nYou are not allowed to ask the user in the middle of your thought-stream - try to make decision by yourself until you are ready to give a full and final answer.\\n\\nIn particular, you are advised to follow the following strategy:\\n- First judge if you can immediately answer the user yourself. This might be the case if user is doing a greeting, social chit-chat, or anything that does not involves a need to obtain new or up-to-date information.\\n- If not, then you should perform an appropiate web search.\\n- Then, in the next thought, you should use the search ranking returned and the text snippet provided of each search result, to choose which document to read in more detail by the other AI, using the \"Get webpage summary\" tool.\\n- You can adjust the question given to this tool to selectively focus on different aspect of the document.\\n- You can repeat this up to three times (due to time constraint)\\n- Then, provide a final answer by consolidating all the information you have obtained.\\n\\n## Input\\nUser: Give me a summary of news on debt ceiling in the US.\\n## Output\\nAssistent: Let\\'s think step by step.\\n*Thought 1*: The user wants a summary of news on debt ceiling in the US.\\n*Act 1*: [web_search(\"debt ceiling news US\")]\\n*Observation 1*: Search Result:\\n1. [Debt ceiling: What\\'s next for the US debt limit - BBC News](https://www.bbc.com/news/world-us-canada-58820071)\\nUS lawmakers have temporarily put off a dangerous game of brinkmanship over lifting the debt ceiling - a limit on how much the US government can borrow. Treasury Secretary Janet Yellen had warned ...\\n2. [Mike Quigley: Debt ceiling deal was better than US defaulting](https://www.chicagotribune.com/opinion/commentary/ct-opinion-debt-ceiling-bill-default-bipartisan-20230620-4raix4a2bvckzdhxlcdcukncmu-story.html)\\nMike Quigley: The debt ceiling deal was not perfect, but it was far better than a default. Senate Majority Leader Chuck Schumer, D-N.Y., after the Senate voted 63-36 late on June 1, 2023, to ...\\n3. [The US debt-ceiling \\'deal\\' was a giant exercise in bipartisan class ...](https://www.theguardian.com/commentisfree/2023/jun/14/us-debt-ceiling-bipartisan-class-warfare)\\n60 T he headlines around the debt-ceiling legislation focused on the ability of the US to meet its financial obligations on time and in full through 2024. This was no small accomplishment,...\\n4. [Biden goes quiet on killing off the debt ceiling - POLITICO](https://www.politico.com/news/2023/06/16/biden-debt-ceiling-deal-14th-amendment-00102448)\\nDebt Ceiling. Biden goes quiet on killing off the debt ceiling The president appears to have dropped his promise to explore the 14th Amendment, worrying some Dems wary of another battle in just a ...\\n5. [Here\\'s what\\'s in the debt ceiling package | CNN Politics](https://www.cnn.com/2023/05/30/politics/whats-in-the-debt-ceiling-deal/index.html)\\nCNN — Congress has passed the debt ceiling package, just days before the Treasury Department would have run out of sufficient funds to pay all of the nation\\'s obligations on time and in full. After...\\n6. [Biden\\'s debt deal paved the way for the next financial mess](https://www.politico.com/news/2023/06/13/biden-debt-ceiling-credit-downgrade-00101277)\\nThe debt ceiling fight is over, but the battle that pushed the U.S. to the brink of default could still result in a credit downgrade that would inject new uncertainty into a fragile economy. Fitch ...\\n7. [Debt Deal Behind Them, Lawmakers Plunge Into Bitter Spending Fight](https://www.nytimes.com/2023/06/15/us/politics/congress-spending-debt-limit.html)\\nFacing a rebellion by hard-right Republicans over the debt limit agreement, Mr. McCarthy and his leadership team blindsided Democrats this week by setting allocations for the 12 annual spending ...\\n8. [Biden\\'s Hope to Kill Debt Limit Evaporates After Recent Deal](https://www.bloomberg.com/news/articles/2023-06-15/biden-s-bid-to-kill-debt-limit-forever-fades-after-recent-deal)\\n0354152Z. STANFORD LAW SCHOOL. Private Company. President Joe Biden\\'s deal with congressional Republicans staved off a federal default crisis for another two years — but also evaporated hopes ...\\n9. [What will happen if the U.S. hits the debt ceiling? - NBC News](https://www.nbcnews.com/politics/economics/us-hits-debt-ceiling-what-will-happen-rcna86071)\\nThe debt ceiling refers to a law that caps the total amount of federal debt allowed to be outstanding. The U.S. hit that limit in January, but the Treasury Department says it has been using ...\\n10. [Debt limit law sets up \\'enormous\\' stakes for the 2024 election - NBC News](https://www.nbcnews.com/politics/congress/debt-limit-law-sets-enormous-stakes-2024-election-rcna87918)\\nJune 7, 2023, 12:00 PM UTC. By Sahil Kapur. WASHINGTON — The newly enacted debt ceiling law all but assures that the winner of the 2024 presidential election and the next Congress will face ...\\n*System Hint*: Which of the search result above appears to warrant further reading to obtain information to answer user\\'s question?\\n*Thought 2*: \\nBased on the search results, it seems that the following articles may be',\n",
       "   'index': 0,\n",
       "   'logprobs': None,\n",
       "   'finish_reason': 'length'}],\n",
       " 'usage': {'prompt_tokens': 2032,\n",
       "  'completion_tokens': 16,\n",
       "  'total_tokens': 2048}}"
      ]
     },
     "execution_count": 85,
     "metadata": {},
     "output_type": "execute_result"
    }
   ],
   "source": [
    "myOut"
   ]
  },
  {
   "cell_type": "code",
   "execution_count": 69,
   "id": "b50f26a7-bccc-42a9-beac-a96869045a76",
   "metadata": {},
   "outputs": [
    {
     "name": "stdout",
     "output_type": "stream",
     "text": [
      "## Instruction\n",
      "You are a personal assistent that answer user query in the context of a multi-round conversation. You have access to the following tools to help you:\n",
      "\n",
      "- Web Search\n",
      "  - *Description*: Use search engine online to find webpage.\n",
      "  - *Usage*: [web_search(<query>)]\n",
      "  - *Example*: [web_search(\"how to make a cake\")]\n",
      "- Read and summarize webpage\n",
      "  - *Description*: Read the content of a webpage. A separate AI will provide a summary of the webpage's content that are pertinent to a question you pose to it. If question is not provided it will default to \"Provide a summary of the text\".\n",
      "  - *Usage*: [read_summarize_webpage(<url>, <question>)]\n",
      "  - *Example*: [read_summarize_webpage(\"https://apple.com/\", \"What are the latest products on offer?\")]\n",
      "- Finalize your answer\n",
      "  - *Description*: Indicate that you are ready to answer the user.\n",
      "  - *Usage*: [final_ans()]\n",
      "\n",
      "You should think using the following pattern:\n",
      "\n",
      "*Thought 1*: <your internal thoughts based on current state and your knowledge, then decide on a course of action. Describe verbally your decision but do not output tool use yet.>\n",
      "*Act 1*: <based on your decision in the thought above, output should be a tool use strictly adhering to the formats in \"Usage\". make no other outputs here and no markdown codeblock necessary.>\n",
      "*Observation 1*: <result of tool use will be shown here>\n",
      "\n",
      "This pattern can be repeated (with the number increasing such as *Thought 2*, *Thought 3*, etc. Ditto for Act and Observation) until you arrive at a final answer.\n",
      "\n",
      "You should still output the observation line when your action is to finalize your answer.\n",
      "\n",
      "You are not allowed to ask the user in the middle of your thought-stream - try to make decision by yourself until you are ready to give a full and final answer.\n",
      "\n",
      "In particular, you are advised to follow the following strategy:\n",
      "- First judge if you can immediately answer the user yourself. This might be the case if user is doing a greeting, social chit-chat, or anything that does not involves a need to obtain new or up-to-date information.\n",
      "- If not, then you should perform an appropiate web search.\n",
      "- Then, in the next thought, you should use the search ranking returned and the text snippet provided of each search result, to choose which document to read in more detail using the \"Read and summarize webpage\" tool.\n",
      "- You can adjust the question given to this tool to selectively focus on different aspect of the document.\n",
      "- You can repeat this up to three times (due to time constraint)\n",
      "- Then, provide a final answer by consolidating all the information you have obtained.\n",
      "\n",
      "## Input\n",
      "User: Give me a summary of news on debt ceiling in the US.\n",
      "## Output\n",
      "Assistent: Let's think step by step.\n",
      "*Thought 1*: The user wants a summary of news on debt ceiling in the US.\n",
      "*Act 1*: [web_search(\"debt ceiling news US\")]\n",
      "*Observation 1*: Search Result:\n",
      "1. [Debt ceiling: What's next for the US debt limit - BBC News](https://www.bbc.com/news/world-us-canada-58820071)\n",
      "US lawmakers have temporarily put off a dangerous game of brinkmanship over lifting the debt ceiling - a limit on how much the US government can borrow. Treasury Secretary Janet Yellen had warned ...\n",
      "2. [Mike Quigley: Debt ceiling deal was better than US defaulting](https://www.chicagotribune.com/opinion/commentary/ct-opinion-debt-ceiling-bill-default-bipartisan-20230620-4raix4a2bvckzdhxlcdcukncmu-story.html)\n",
      "Mike Quigley: The debt ceiling deal was not perfect, but it was far better than a default. Senate Majority Leader Chuck Schumer, D-N.Y., after the Senate voted 63-36 late on June 1, 2023, to ...\n",
      "3. [The US debt-ceiling 'deal' was a giant exercise in bipartisan class ...](https://www.theguardian.com/commentisfree/2023/jun/14/us-debt-ceiling-bipartisan-class-warfare)\n",
      "60 T he headlines around the debt-ceiling legislation focused on the ability of the US to meet its financial obligations on time and in full through 2024. This was no small accomplishment,...\n",
      "4. [Biden goes quiet on killing off the debt ceiling - POLITICO](https://www.politico.com/news/2023/06/16/biden-debt-ceiling-deal-14th-amendment-00102448)\n",
      "Debt Ceiling. Biden goes quiet on killing off the debt ceiling The president appears to have dropped his promise to explore the 14th Amendment, worrying some Dems wary of another battle in just a ...\n",
      "5. [Here's what's in the debt ceiling package | CNN Politics](https://www.cnn.com/2023/05/30/politics/whats-in-the-debt-ceiling-deal/index.html)\n",
      "CNN — Congress has passed the debt ceiling package, just days before the Treasury Department would have run out of sufficient funds to pay all of the nation's obligations on time and in full. After...\n",
      "6. [Biden's debt deal paved the way for the next financial mess](https://www.politico.com/news/2023/06/13/biden-debt-ceiling-credit-downgrade-00101277)\n",
      "The debt ceiling fight is over, but the battle that pushed the U.S. to the brink of default could still result in a credit downgrade that would inject new uncertainty into a fragile economy. Fitch ...\n",
      "7. [Debt Deal Behind Them, Lawmakers Plunge Into Bitter Spending Fight](https://www.nytimes.com/2023/06/15/us/politics/congress-spending-debt-limit.html)\n",
      "Facing a rebellion by hard-right Republicans over the debt limit agreement, Mr. McCarthy and his leadership team blindsided Democrats this week by setting allocations for the 12 annual spending ...\n",
      "8. [Biden's Hope to Kill Debt Limit Evaporates After Recent Deal](https://www.bloomberg.com/news/articles/2023-06-15/biden-s-bid-to-kill-debt-limit-forever-fades-after-recent-deal)\n",
      "0354152Z. STANFORD LAW SCHOOL. Private Company. President Joe Biden's deal with congressional Republicans staved off a federal default crisis for another two years — but also evaporated hopes ...\n",
      "9. [What will happen if the U.S. hits the debt ceiling? - NBC News](https://www.nbcnews.com/politics/economics/us-hits-debt-ceiling-what-will-happen-rcna86071)\n",
      "The debt ceiling refers to a law that caps the total amount of federal debt allowed to be outstanding. The U.S. hit that limit in January, but the Treasury Department says it has been using ...\n",
      "10. [Debt limit law sets up 'enormous' stakes for the 2024 election - NBC News](https://www.nbcnews.com/politics/congress/debt-limit-law-sets-enormous-stakes-2024-election-rcna87918)\n",
      "June 7, 2023, 12:00 PM UTC. By Sahil Kapur. WASHINGTON — The newly enacted debt ceiling law all but assures that the winner of the 2024 presidential election and the next Congress will face ...\n",
      "\n",
      "*Thought 2*: \n",
      "Based on the search results, it seems that the US has temporarily avoided a dangerous game of brinkmanship over lifting the debt ceiling through a bipartisan deal that allows the government to borrow up to $3\n"
     ]
    }
   ],
   "source": [
    "print(response_test1)"
   ]
  },
  {
   "cell_type": "code",
   "execution_count": 63,
   "id": "8f1d80ba-e2a3-4a5a-aada-8a901e598bb8",
   "metadata": {},
   "outputs": [],
   "source": [
    "test_thought2 = \"\"\"*Thought 2*: \n",
    "Act 2: [summarize_news(\"debt ceiling news US\")](https://www.bbc.com/news/world-us-canada-58820071)\n",
    "The US Congress has temporarily raised the debt ceiling, avoiding a dangerous game of brinkmanship over how much the government can borrow. The deal, which was passed by both houses of Congress and signed by President Biden, will allow the Treasury Department to meet its financial obligations on time and in full through 2024. However, some Democrats are wary of another battle in just a few years, while Republicans want deeper spending cuts. The deal also includes provisions for disaster relief funding and an increase in the gas tax to pay for infrastructure projects.\"\"\""
   ]
  },
  {
   "cell_type": "code",
   "execution_count": 73,
   "id": "e1e4e72e-5818-486e-ac4f-3f5116a9ed5d",
   "metadata": {},
   "outputs": [],
   "source": [
    "test_thought3 = \"\"\"*Thought 2*: \n",
    "Based on the search results, it seems that the US has temporarily avoided a dangerous game of brinkmanship over lifting the debt ceiling through a bipartisan deal that allows the government to borrow up to $3.\"\"\""
   ]
  },
  {
   "cell_type": "code",
   "execution_count": 92,
   "id": "f72be70e-5031-4c79-a899-fc16d6cae22a",
   "metadata": {},
   "outputs": [],
   "source": [
    "proceed_result = myOut[\"choices\"][0][\"text\"]"
   ]
  },
  {
   "cell_type": "code",
   "execution_count": 94,
   "id": "1cc89ee7-bc6e-4ce6-97b1-ea8bf894698b",
   "metadata": {},
   "outputs": [
    {
     "data": {
      "text/plain": [
       "'*Act 2*: [get_webpage_summary(\"https://www.bbc.com/news/world-us-canada-58820071\")]'"
      ]
     },
     "execution_count": 94,
     "metadata": {},
     "output_type": "execute_result"
    }
   ],
   "source": [
    "proceed_result.split(\"\\n\")[-2]"
   ]
  },
  {
   "cell_type": "code",
   "execution_count": 98,
   "id": "a46db3bd-3029-48a7-bbb7-cd2883cf7a05",
   "metadata": {},
   "outputs": [],
   "source": [
    "regex_result2 = re.search(action_regex, proceed_result.split(\"\\n\")[-2])"
   ]
  },
  {
   "cell_type": "code",
   "execution_count": 101,
   "id": "918248d7-77ce-46ca-bcdc-ac82c2833702",
   "metadata": {},
   "outputs": [
    {
     "data": {
      "text/plain": [
       "'https://www.bbc.com/news/world-us-canada-58820071'"
      ]
     },
     "execution_count": 101,
     "metadata": {},
     "output_type": "execute_result"
    }
   ],
   "source": [
    "regex_result2[2]"
   ]
  },
  {
   "cell_type": "code",
   "execution_count": 102,
   "id": "658638cc-1f13-4cea-892c-a59d6e78510a",
   "metadata": {},
   "outputs": [],
   "source": [
    "import requests\n",
    "import html2text\n",
    "\n",
    "text_maker = html2text.HTML2Text()\n",
    "text_maker.ignore_links = True\n",
    "text_maker.ignore_images = True\n",
    "\n",
    "def grab_webpage(url, text_maker):\n",
    "    req = requests.get(url)\n",
    "    return text_maker.handle(req.text)"
   ]
  },
  {
   "cell_type": "code",
   "execution_count": 104,
   "id": "d549e900-4f4a-4da4-b0d7-e0f1674627ef",
   "metadata": {},
   "outputs": [],
   "source": [
    "doc = grab_webpage(regex_result2[2], text_maker)"
   ]
  },
  {
   "cell_type": "code",
   "execution_count": 106,
   "id": "5ba4f578-1078-4e26-88e4-b7e1ca9cf845",
   "metadata": {},
   "outputs": [
    {
     "name": "stdout",
     "output_type": "stream",
     "text": [
      "BBC Homepage\n",
      "\n",
      "  * Skip to content\n",
      "  * Accessibility Help\n",
      "\n",
      "  * Your account\n",
      "\n",
      "  * Home\n",
      "  * News\n",
      "  * Sport\n",
      "  * Reel\n",
      "  * Worklife\n",
      "  * Travel\n",
      "  * Future\n",
      "  * More menu\n",
      "\n",
      "More menu\n",
      "\n",
      "Search BBC\n",
      "\n",
      "  * Home\n",
      "  * News\n",
      "  * Sport\n",
      "  * Reel\n",
      "  * Worklife\n",
      "  * Travel\n",
      "  * Future\n",
      "  * Culture\n",
      "  * Music\n",
      "  * TV\n",
      "  * Weather\n",
      "  * Sounds\n",
      "\n",
      "Close menu\n",
      "\n",
      "BBC News\n",
      "\n",
      "Menu\n",
      "\n",
      "  * Home\n",
      "  * War in Ukraine\n",
      "  * Coronavirus\n",
      "  * Climate\n",
      "  * Video\n",
      "  * World\n",
      "  * Asia\n",
      "  * UK\n",
      "  * Business\n",
      "  * Tech\n",
      "\n",
      "More\n",
      "\n",
      "  * Science\n",
      "  * Entertainment & Arts\n",
      "  * Health\n",
      "  * World News TV\n",
      "  * In Pictures\n",
      "  * Reality Check\n",
      "  * Newsbeat\n",
      "\n",
      "  * World\n",
      "  * Africa\n",
      "  * Australia\n",
      "  * Europe\n",
      "  * Latin America\n",
      "  * Middle East\n",
      "  * US & Canada\n",
      "\n",
      "# Debt ceiling: What's next for the US debt limit\n",
      "\n",
      "  * Published\n",
      "\n",
      "15 October 2021\n",
      "\n",
      "Share\n",
      "\n",
      "close panel\n",
      "\n",
      "Share page\n",
      "\n",
      "Copy link\n",
      "\n",
      "About sharing\n",
      "\n",
      "Image source, Getty Images\n",
      "\n",
      "Image caption,\n",
      "\n",
      "US lawmakers are running out the clock in a standoff over how much money the\n",
      "government can borrow\n",
      "\n",
      " **US lawmakers have temporarily put off a dangerous game of brinkmanship over\n",
      "lifting the debt ceiling - a limit on how much the US government can borrow.**\n",
      "\n",
      "Treasury Secretary Janet Yellen had warned Congress that the country would\n",
      "reach its ceiling by 18 October.\n",
      "\n",
      "Republicans dared Democrats to resolve the conflict alone. Democrats called\n",
      "that move reckless. The showdown prompted fears of a default on the national\n",
      "debt.\n",
      "\n",
      "But with the deadline only days away, Congress has voted to extend the debt\n",
      "limit through early December. On Thursday, President Joe Biden signed the bill\n",
      "into law, putting off the drama for a few weeks.\n",
      "\n",
      "A default is still unlikely and has never happened in US history but if it\n",
      "did, it would have catastrophic implications for the US and the global\n",
      "economy.\n",
      "\n",
      "Impasses over the debt ceiling are not new in Washington politics, but amid a\n",
      "sluggish economic recovery from the ongoing Covid-19 pandemic, there were some\n",
      "jitters in financial markets.\n",
      "\n",
      "Here's what you need to know about the debt ceiling debate.\n",
      "\n",
      "## What is the debt ceiling?\n",
      "\n",
      "The US government spends more money than it collects in taxes, so it borrows\n",
      "to make up for the shortfall.\n",
      "\n",
      "Borrowing is done via the US Treasury, through the issuing of bonds. US\n",
      "government bonds are seen as among the world's safest and most reliable\n",
      "investments.\n",
      "\n",
      "In 1939, Congress established an aggregate limit or \"ceiling\" on how much debt\n",
      "the government can accumulate.\n",
      "\n",
      "The ceiling has been lifted on more than 100 occasions to allow the government\n",
      "to borrow more. Congress often acts on it in a bipartisan manner and it is\n",
      "rarely the subject of a political standoff.\n",
      "\n",
      "As the country has become more bitterly partisan, however, lawmakers have used\n",
      "the debt ceiling vote as leverage against other issues.\n",
      "\n",
      "In a 2013 standoff, the last time the US was in serious danger of going over a\n",
      "\"debt cliff\", Republicans put up a blockade over the spending plans of\n",
      "President Barack Obama, a Democrat.\n",
      "\n",
      "Image source, Getty Images\n",
      "\n",
      "Image caption,\n",
      "\n",
      "President Barack Obama negotiated intensely with Republicans to end a standoff\n",
      "over the debt ceiling in 2013\n",
      "\n",
      "But, if history is any guide, lawmakers typically back down at the eleventh\n",
      "hour. This appears to have been the case again this month.\n",
      "\n",
      "## What would have happened without a raise?\n",
      "\n",
      "For the first time ever, sometime in the second half of October, the US would\n",
      "have defaulted on its debts - which currently stand at around $28tn (Â£21tn).\n",
      "\n",
      "Such an event would cause delays or bring service adjustments to every single\n",
      "government programme currently available, while also affecting federal funding\n",
      "for individual states.\n",
      "\n",
      "A Goldman Sachs report has estimated the US Treasury would need to halt more\n",
      "than 40% of expected payments and financial aid to US households.\n",
      "\n",
      "The Pentagon released a statement last week expressing concern that service\n",
      "members too may not be paid in full or on time.\n",
      "\n",
      "Default may also trigger a spike in interest rates and ruin America's\n",
      "creditworthiness, making the US a more expensive place to live and damaging\n",
      "the economy. It would also bring turmoil to the stock market.\n",
      "\n",
      "In a Wall Street Journal opinion piece last month, Secretary Yellen warned of\n",
      "\"a historic financial crisis\" that would leave the US \"permanently weaker\" if\n",
      "the debt ceiling was not raised.\n",
      "\n",
      "Not raising - or temporarily suspending - the debt ceiling also threatens the\n",
      "health of the global economy, which would compound the impacts of the ongoing\n",
      "once-in-a-century public health crisis.\n",
      "\n",
      "Investors around the world may sell off US assets and become less trusting of\n",
      "the US dollar, which has functioned as the world's reserve currency for\n",
      "decades.\n",
      "\n",
      "The International Monetary Fund (IMF) has called for an end to Washington's\n",
      "\"counterproductive brinkmanship\" over the debt ceiling. It also suggested the\n",
      "cap should be replaced with an alternative financial mechanism.\n",
      "\n",
      "## What are Democrats saying?\n",
      "\n",
      "Last week, Mr Biden condemned what he called \"hypocritical, dangerous and\n",
      "disgraceful\" Republican opposition.\n",
      "\n",
      "Mr Biden said it amounts to \"playing Russian Roulette with the economy\".\n",
      "\n",
      "There are 50 Democrats in the Senate, but in order to pass a measure on the\n",
      "debt ceiling without changing Senate rules, they require at least 10\n",
      "Republican votes.\n",
      "\n",
      "Democrats have pointed out that raising the debt ceiling is about paying off\n",
      "existing obligations rather than paying for new ones, and that Mr Biden's\n",
      "policies have only contributed to 3% of existing debts.\n",
      "\n",
      "Image source, Getty Images\n",
      "\n",
      "Image caption,\n",
      "\n",
      "Treasury Secretary Janet Yellen, seen here with the top Democrats in Congress,\n",
      "has warned of a \"historic financial crisis\" if the US defaults on its debts\n",
      "\n",
      "They also note that, during Mr Biden's predecessor Donald Trump's term, they\n",
      "joined with Republicans to raise the debt ceiling three times.\n",
      "\n",
      "## What are Republicans saying?\n",
      "\n",
      "Senate Republicans have said raising the debt limit is the \"sole\n",
      "responsibility\" of Democrats because they hold power in the White House and\n",
      "both chambers of Congress.\n",
      "\n",
      "They are frustrated by new spending proposals that Democrats are trying to\n",
      "push through without Republican support, through a procedural tool called\n",
      "\"budget reconciliation\".\n",
      "\n",
      "Minority Leader Mitch McConnell tweeted last month that his party \"will not\n",
      "facilitate another reckless, partisan taxing and spending spree\".\n",
      "\n",
      "Mr McConnell and other party leaders contend that if Democrats can use\n",
      "reconciliation to achieve their economic policy goals, they can also use it to\n",
      "take action on the debt ceiling.\n",
      "\n",
      "Democrats have expressed concern over using reconciliation, saying it is too\n",
      "complex and time-consuming a route to take.\n",
      "\n",
      "## How might this get resolved?\n",
      "\n",
      "After two attempts to bring up the debt ceiling measure through regular order\n",
      "in the Senate failed, Mr McConnell proposed an agreement last week that\n",
      "Democrats have now accepted.\n",
      "\n",
      "As part of the offer, Republicans will come along with Democrats to raise the\n",
      "debt ceiling by a set amount - $480bn (Â£352bn) - to ensure bills are paid\n",
      "through 3 December.\n",
      "\n",
      "Some Republicans, including former president Donald Trump, have grumbled that\n",
      "this amounts to \"folding to the Democrats\", but the temporary measure has now\n",
      "passed through both chambers of Congress.\n",
      "\n",
      "Under the agreement, Congress will still need to vote again in December to\n",
      "avert a default.\n",
      "\n",
      "The short-term fix gives the two parties more time to address their issues,\n",
      "which clearly remain unsolved.\n",
      "\n",
      "Shortly after the Senate passed the bill, Mr McConnell wrote a letter to\n",
      "President Biden promising to \"not provide such assistance again if your all-\n",
      "Democrat government drifts into another avoidable crisis\".\n",
      "\n",
      "Separately, lawmakers also kicked the can down the road last week when they\n",
      "passed a separate short-term bill to keep the government funded until December\n",
      "- so there may be a new round of headaches with the holidays right around the\n",
      "corner.\n",
      "\n",
      "## Related Topics\n",
      "\n",
      "  * Janet Yellen\n",
      "  * US Congress\n",
      "  * United States\n",
      "  * Joe Biden\n",
      "\n",
      "## More on this story\n",
      "\n",
      "  * Congress narrowly averts US government shutdown\n",
      "\n",
      "    * Published\n",
      "\n",
      "1 October 2021\n",
      "\n",
      "  * What is a government shutdown?\n",
      "\n",
      "    * Published\n",
      "\n",
      "18 January 2019\n",
      "\n",
      "## Top Stories\n",
      "\n",
      "  * Live.Â \n",
      "\n",
      "More deep-sea search equipment joins hunt for Titan\n",
      "\n",
      "  * Titanic sub: The latest in 70 seconds. VideoTitanic sub: The latest in 70 seconds\n",
      "\n",
      "    * Published\n",
      "\n",
      "3 hours ago\n",
      "\n",
      "  * Beijing records hottest June day in 60 years\n",
      "\n",
      "    * Published\n",
      "\n",
      "3 hours ago\n",
      "\n",
      "## Features\n",
      "\n",
      "  * Why the oxygen timeline on sub may not be so fixed\n",
      "\n",
      "  * The woman who wants to end abortion in America\n",
      "\n",
      "  * Satellite images reveal Ukraine canals drying up\n",
      "\n",
      "  *   * Two families united in grief after Greece boat disaster\n",
      "\n",
      "  * Windrush 75: 'We have put the Great in Britain'\n",
      "\n",
      "  * Final Fantasy 16: Trying to regain fans' trust\n",
      "\n",
      "  * Fears grow over Indian state on brink of civil war\n",
      "\n",
      "  * The draft star and his overdose - a death that changed America\n",
      "\n",
      "  * The Gen Xers making mid-life career pivots\n",
      "\n",
      "## Elsewhere on the BBC\n",
      "\n",
      "  * Where tipping can be considered rude\n",
      "\n",
      "  * The fading glamour of digital nomadism\n",
      "\n",
      "  * Why are there mountains inside Earth?\n",
      "\n",
      "## Most Read\n",
      "\n",
      "  1. 1\n",
      "\n",
      "Why the oxygen timeline on sub may not be so fixed\n",
      "\n",
      "  2. 2\n",
      "\n",
      "Musk and Zuckerberg agree to hold cage fight\n",
      "\n",
      "  3. 3\n",
      "\n",
      "India man 'cons' posh hotel for two-year free stay\n",
      "\n",
      "  4. 4\n",
      "\n",
      "Ukraine strikes bridge to Crimea, says Russia\n",
      "\n",
      "  5. 5\n",
      "\n",
      "Search for missing Titanic sub: What we know\n",
      "\n",
      "  6. 6\n",
      "\n",
      "Beijing records hottest June day in 60 years\n",
      "\n",
      "  7. 7\n",
      "\n",
      "Turkey hikes interest rate to 15% in Erdogan U-turn\n",
      "\n",
      "  8. 8\n",
      "\n",
      "Why the US is rolling out the red carpet for Modi\n",
      "\n",
      "  9. 9\n",
      "\n",
      "Missing Titanic sub may have 70 hours of oxygen left\n",
      "\n",
      "  10. 10\n",
      "\n",
      "Fears grow over Indian state on brink of civil war\n",
      "\n",
      "## BBC News Services\n",
      "\n",
      "  * On your mobile\n",
      "  * On smart speakers\n",
      "  * Get news alerts\n",
      "  * Contact BBC News\n",
      "\n",
      "  * Home\n",
      "  * News\n",
      "  * Sport\n",
      "  * Reel\n",
      "  * Worklife\n",
      "  * Travel\n",
      "  * Future\n",
      "  * Culture\n",
      "  * Music\n",
      "  * TV\n",
      "  * Weather\n",
      "  * Sounds\n",
      "\n",
      "  * Terms of Use\n",
      "  * About the BBC\n",
      "  * Privacy Policy\n",
      "  * Cookies\n",
      "  * Accessibility Help\n",
      "  * Parental Guidance\n",
      "  * Contact the BBC\n",
      "  * Get Personalised Newsletters\n",
      "  * Why you can trust the BBC\n",
      "  * Advertise with us\n",
      "\n",
      "Â© 2023 BBC. The BBC is not responsible for the content of external sites.\n",
      "Read about our approach to external linking.\n",
      "\n",
      "\n"
     ]
    }
   ],
   "source": [
    "print(doc)"
   ]
  },
  {
   "cell_type": "code",
   "execution_count": 112,
   "id": "8e439a37-2e54-4195-b0dc-b1dd9de1673f",
   "metadata": {},
   "outputs": [
    {
     "name": "stderr",
     "output_type": "stream",
     "text": [
      "llama_tokenize: too many tokens\n"
     ]
    }
   ],
   "source": [
    "tDoc = llm.tokenize(bytes(doc, \"utf-8\"))"
   ]
  },
  {
   "cell_type": "code",
   "execution_count": 124,
   "id": "a0def2ae-841a-4994-90e1-42777cc9d930",
   "metadata": {},
   "outputs": [
    {
     "data": {
      "text/plain": [
       "2975"
      ]
     },
     "execution_count": 124,
     "metadata": {},
     "output_type": "execute_result"
    }
   ],
   "source": [
    "len(tDoc)"
   ]
  },
  {
   "cell_type": "code",
   "execution_count": 149,
   "id": "033dedd1-40f7-41cd-b3d1-83889b91c87a",
   "metadata": {},
   "outputs": [],
   "source": [
    "chunk_size = 800\n",
    "chunk_overlap = 30\n",
    "\n",
    "chunks = []\n",
    "b = 0\n",
    "reachedEnd = False\n",
    "while not reachedEnd:\n",
    "    reachedEnd = not (b + chunk_size < len(tDoc))\n",
    "    cur_chunk = llm.detokenize(tDoc[b:b + chunk_size]).decode(\"utf-8\")\n",
    "    chunks.append(cur_chunk)\n",
    "    b = b + chunk_size - chunk_overlap"
   ]
  },
  {
   "cell_type": "code",
   "execution_count": 131,
   "id": "718f87e9-bcd1-4924-beb1-3a2972c6b682",
   "metadata": {},
   "outputs": [
    {
     "data": {
      "text/plain": [
       "[2, 3, 4]"
      ]
     },
     "execution_count": 131,
     "metadata": {},
     "output_type": "execute_result"
    }
   ],
   "source": [
    "ttt = [0, 1, 2, 3, 4]\n",
    "ttt[2:6]"
   ]
  },
  {
   "cell_type": "code",
   "execution_count": 150,
   "id": "81c6486b-8941-4f68-b242-888c8e93f2d3",
   "metadata": {},
   "outputs": [
    {
     "data": {
      "text/plain": [
       "4"
      ]
     },
     "execution_count": 150,
     "metadata": {},
     "output_type": "execute_result"
    }
   ],
   "source": [
    "len(chunks)"
   ]
  },
  {
   "cell_type": "code",
   "execution_count": 151,
   "id": "c0fa0d1d-26c7-41eb-b84e-969828418ce3",
   "metadata": {},
   "outputs": [],
   "source": [
    "refine_prompt = \"\"\"### Instruction\n",
    "Consider this question or request:\n",
    "\n",
    "{question}\n",
    "\n",
    "Input section below contains:\n",
    "- Part of the text of a webpage (also called a snippet)\n",
    "- (Optionally) a partial answer to the question or request above based on reading previous parts of the webpage.\n",
    "\n",
    "Create or refine a partial answer towards answering the question or request based on any new info contained in the text of the webpage provided. Write your updated partial answer in the output section. If you did not find any useful info in the snippet, please simply copy the existing partial answer in input section to the output section.\n",
    "\n",
    "### Input\n",
    "Part of the text of webpage (snippet):\n",
    "{snippet}\n",
    "----\n",
    "Partial answer so far (can be empty):\n",
    "{partialans}\n",
    "### Output\n",
    "*Updated partial answer*: \"\"\""
   ]
  },
  {
   "cell_type": "code",
   "execution_count": null,
   "id": "c17dfad7-f81d-4c85-8263-4f6af0f0b54a",
   "metadata": {},
   "outputs": [],
   "source": [
    "main_question = \"Provide a summary of the article towards answering the question: Give me a summary of news on debt ceiling in the US.\"\n",
    "\n",
    "refine_prompt_formated = refine_prompt.format(question=main_question,\\\n",
    "                    snippet=chunks[1],\\\n",
    "                    partialans=cur_ans)\n",
    "\n",
    "print(refine_prompt_formated)"
   ]
  },
  {
   "cell_type": "code",
   "execution_count": 154,
   "id": "f45bf1a1-dd05-4fc3-933d-4edb392faada",
   "metadata": {},
   "outputs": [
    {
     "name": "stderr",
     "output_type": "stream",
     "text": [
      "Llama.generate: prefix-match hit\n",
      "\n",
      "llama_print_timings:        load time = 317036.69 ms\n",
      "llama_print_timings:      sample time =   203.38 ms /   145 runs   (    1.40 ms per token,   712.96 tokens per second)\n",
      "llama_print_timings: prompt eval time = 522092.71 ms /   996 tokens (  524.19 ms per token,     1.91 tokens per second)\n",
      "llama_print_timings:        eval time = 111174.30 ms /   144 runs   (  772.04 ms per token,     1.30 tokens per second)\n",
      "llama_print_timings:       total time = 634348.02 ms\n"
     ]
    }
   ],
   "source": [
    "myOut = llm(refine_prompt_formated, max_tokens=200, echo=True)"
   ]
  },
  {
   "cell_type": "code",
   "execution_count": 157,
   "id": "7aa3657c-3559-47e4-91f1-a99c6eae7d60",
   "metadata": {},
   "outputs": [
    {
     "name": "stdout",
     "output_type": "stream",
     "text": [
      "The US debt ceiling is a limit on how much the government can borrow to make up for the shortfall between its spending and tax revenues. On October 15, 2021, Congress temporarily extended the debt ceiling through early December, avoiding a potential default on the national debt. The extension was passed with bipartisan support and signed into law by President Joe Biden. While a default has never happened in US history, a potential default would have catastrophic implications for the US and global economy. The debt ceiling is a controversial topic in Washington politics, often used as a bargaining chip in negotiations between parties.\n"
     ]
    }
   ],
   "source": [
    "cur_ans = myOut[\"choices\"][0][\"text\"].split(\"\\n\")[-1]\n",
    "print(cur_ans)"
   ]
  }
 ],
 "metadata": {
  "kernelspec": {
   "display_name": "Python 3 (ipykernel)",
   "language": "python",
   "name": "python3"
  },
  "language_info": {
   "codemirror_mode": {
    "name": "ipython",
    "version": 3
   },
   "file_extension": ".py",
   "mimetype": "text/x-python",
   "name": "python",
   "nbconvert_exporter": "python",
   "pygments_lexer": "ipython3",
   "version": "3.8.10"
  }
 },
 "nbformat": 4,
 "nbformat_minor": 5
}
